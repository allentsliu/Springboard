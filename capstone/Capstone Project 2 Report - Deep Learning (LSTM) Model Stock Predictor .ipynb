{
 "cells": [
  {
   "cell_type": "markdown",
   "metadata": {},
   "source": [
    "# Project 2 - Deep Learning (LSTM) Model Stock Predictor\n",
    "## Objective\n",
    "Stock investiment is probably one of the hardest investment to master because of the unpredictable natural of stock market. Experts have studied the market and derived several technical analysis for predicting stuck market. Unfortunately, most of the technical analysis are quite complex and not many people know how to use them. Even people with good understanding of the technical analysis would need to spend a considerable amount of time analyzing the data before reaching a reasonable confident conclusion. \n",
    "The objective of this project is to train a regression model based on the available historical stuck price. Once the model is trained, the user should be able to provide the current stock price and get the prediction of the price for the next 30 days using the model.\n",
    "\n",
    "## Goals\n",
    "From Project 1 - Regression Model Stock Predictor, it shows that both SVR and DecisionTreeRegressor can predict the trend of the stock price and DecisionTreeRegressor shows that it performs better than SVR.\n",
    "\n",
    "The goal of this project is to use the same stock price data to train a deep learning model (LSTM) to see how it compares to the models from project 1\n",
    "\n",
    "\n",
    "## Project Outline\n",
    "The project has 3 steps:\n",
    "1. Explore and analyze the dataset\n",
    "2. Modify and prepare the dataset for training\n",
    "3. Evaluate the performance of the model\n"
   ]
  },
  {
   "cell_type": "markdown",
   "metadata": {},
   "source": [
    "## 1. Explore and analyze the dataset\n",
    "Download the dataset from Quandl if it is not available in local disk. \n",
    "Note: For this project, AAPL stock price is used since it is one of the few stock price that Quandl provide for free "
   ]
  },
  {
   "cell_type": "code",
   "execution_count": 1,
   "metadata": {},
   "outputs": [
    {
     "data": {
      "text/html": [
       "<div>\n",
       "<style>\n",
       "    .dataframe thead tr:only-child th {\n",
       "        text-align: right;\n",
       "    }\n",
       "\n",
       "    .dataframe thead th {\n",
       "        text-align: left;\n",
       "    }\n",
       "\n",
       "    .dataframe tbody tr th {\n",
       "        vertical-align: top;\n",
       "    }\n",
       "</style>\n",
       "<table border=\"1\" class=\"dataframe\">\n",
       "  <thead>\n",
       "    <tr style=\"text-align: right;\">\n",
       "      <th></th>\n",
       "      <th>adj_close</th>\n",
       "    </tr>\n",
       "    <tr>\n",
       "      <th>date</th>\n",
       "      <th></th>\n",
       "    </tr>\n",
       "  </thead>\n",
       "  <tbody>\n",
       "    <tr>\n",
       "      <th>2018-03-27</th>\n",
       "      <td>168.340</td>\n",
       "    </tr>\n",
       "    <tr>\n",
       "      <th>2018-03-26</th>\n",
       "      <td>172.770</td>\n",
       "    </tr>\n",
       "    <tr>\n",
       "      <th>2018-03-23</th>\n",
       "      <td>164.940</td>\n",
       "    </tr>\n",
       "    <tr>\n",
       "      <th>2018-03-22</th>\n",
       "      <td>168.845</td>\n",
       "    </tr>\n",
       "    <tr>\n",
       "      <th>2018-03-21</th>\n",
       "      <td>171.270</td>\n",
       "    </tr>\n",
       "  </tbody>\n",
       "</table>\n",
       "</div>"
      ],
      "text/plain": [
       "            adj_close\n",
       "date                 \n",
       "2018-03-27    168.340\n",
       "2018-03-26    172.770\n",
       "2018-03-23    164.940\n",
       "2018-03-22    168.845\n",
       "2018-03-21    171.270"
      ]
     },
     "execution_count": 1,
     "metadata": {},
     "output_type": "execute_result"
    }
   ],
   "source": [
    "import os\n",
    "import quandl\n",
    "import pandas as pd\n",
    "quandl.ApiConfig.api_key = \"nVD4QZoCjEQijoM1Pvzz\"\n",
    "# download data from quandl and save it in a csv file if the file does not exist\n",
    "if not os.path.exists('data/AAPL.csv'):\n",
    "    data = quandl.get_table(\"WIKI/PRICES\", qopts={'columns': ['ticker', 'date', 'adj_close', 'adj_volume']}, \n",
    "                            ticker=AAPL, paginate=True)\n",
    "    if data.shape[0] > 1:\n",
    "        data.to_csv('data/AAPL.csv', '\\t')\n",
    "# read the data from csv file\n",
    "df = pd.read_csv('data/AAPL.csv', usecols=['date', 'adj_close'], delimiter='\\t', header=0,\n",
    "                 index_col='date', parse_dates=True)\n",
    "df.head()"
   ]
  },
  {
   "cell_type": "code",
   "execution_count": 2,
   "metadata": {},
   "outputs": [
    {
     "data": {
      "text/plain": [
       "(9400, 1)"
      ]
     },
     "execution_count": 2,
     "metadata": {},
     "output_type": "execute_result"
    }
   ],
   "source": [
    "# check dataset's shape and info to see if cleaning is required\n",
    "df.shape"
   ]
  },
  {
   "cell_type": "code",
   "execution_count": 3,
   "metadata": {},
   "outputs": [
    {
     "name": "stdout",
     "output_type": "stream",
     "text": [
      "<class 'pandas.core.frame.DataFrame'>\n",
      "DatetimeIndex: 9400 entries, 2018-03-27 to 1980-12-12\n",
      "Data columns (total 1 columns):\n",
      "adj_close    9400 non-null float64\n",
      "dtypes: float64(1)\n",
      "memory usage: 146.9 KB\n"
     ]
    }
   ],
   "source": [
    "df.info()"
   ]
  },
  {
   "cell_type": "code",
   "execution_count": 4,
   "metadata": {},
   "outputs": [
    {
     "data": {
      "image/png": "[encoded data removed]",
      "text/plain": [
       "<matplotlib.figure.Figure at 0x1095e3710>"
      ]
     },
     "metadata": {},
     "output_type": "display_data"
    }
   ],
   "source": [
    "# above info shows that there is no null value and the dataset is clean\n",
    "# The line plot of the dataset is created which shows the tread of the dataset\n",
    "import matplotlib.pyplot as plt\n",
    "df.sort_index(inplace=True)\n",
    "plt.plot(df)\n",
    "plt.title('AAPL stock price')\n",
    "plt.xlabel('Date')\n",
    "plt.ylabel('stock price')\n",
    "plt.show()"
   ]
  },
  {
   "cell_type": "code",
   "execution_count": 5,
   "metadata": {},
   "outputs": [
    {
     "data": {
      "text/html": [
       "<div>\n",
       "<style>\n",
       "    .dataframe thead tr:only-child th {\n",
       "        text-align: right;\n",
       "    }\n",
       "\n",
       "    .dataframe thead th {\n",
       "        text-align: left;\n",
       "    }\n",
       "\n",
       "    .dataframe tbody tr th {\n",
       "        vertical-align: top;\n",
       "    }\n",
       "</style>\n",
       "<table border=\"1\" class=\"dataframe\">\n",
       "  <thead>\n",
       "    <tr style=\"text-align: right;\">\n",
       "      <th></th>\n",
       "      <th>adj_close</th>\n",
       "    </tr>\n",
       "  </thead>\n",
       "  <tbody>\n",
       "    <tr>\n",
       "      <th>count</th>\n",
       "      <td>9400.000000</td>\n",
       "    </tr>\n",
       "    <tr>\n",
       "      <th>mean</th>\n",
       "      <td>21.567664</td>\n",
       "    </tr>\n",
       "    <tr>\n",
       "      <th>std</th>\n",
       "      <td>39.271266</td>\n",
       "    </tr>\n",
       "    <tr>\n",
       "      <th>min</th>\n",
       "      <td>0.161731</td>\n",
       "    </tr>\n",
       "    <tr>\n",
       "      <th>25%</th>\n",
       "      <td>0.922730</td>\n",
       "    </tr>\n",
       "    <tr>\n",
       "      <th>50%</th>\n",
       "      <td>1.437445</td>\n",
       "    </tr>\n",
       "    <tr>\n",
       "      <th>75%</th>\n",
       "      <td>20.294924</td>\n",
       "    </tr>\n",
       "    <tr>\n",
       "      <th>max</th>\n",
       "      <td>181.720000</td>\n",
       "    </tr>\n",
       "  </tbody>\n",
       "</table>\n",
       "</div>"
      ],
      "text/plain": [
       "         adj_close\n",
       "count  9400.000000\n",
       "mean     21.567664\n",
       "std      39.271266\n",
       "min       0.161731\n",
       "25%       0.922730\n",
       "50%       1.437445\n",
       "75%      20.294924\n",
       "max     181.720000"
      ]
     },
     "execution_count": 5,
     "metadata": {},
     "output_type": "execute_result"
    }
   ],
   "source": [
    "df.describe()"
   ]
  },
  {
   "cell_type": "markdown",
   "metadata": {},
   "source": [
    "## 2. Modify and prepare the dataset for training\n",
    "\n",
    "As shown in the plot above, the data has an increasing trend. To make a better prediction, we can remove the tread by differencing"
   ]
  },
  {
   "cell_type": "code",
   "execution_count": 6,
   "metadata": {},
   "outputs": [
    {
     "name": "stdout",
     "output_type": "stream",
     "text": [
      "[[array([-0.02205422])]\n",
      " [array([-0.02940563])]\n",
      " [array([0.00911574])]\n",
      " [array([0.01117414])]\n",
      " [array([0.02381856])]]\n",
      "[[array([-3.97])]\n",
      " [array([-2.425])]\n",
      " [array([-3.905])]\n",
      " [array([7.83])]\n",
      " [array([-4.43])]]\n"
     ]
    }
   ],
   "source": [
    "from pandas import Series\n",
    "def difference(dataset, interval=1):\n",
    "    diff = list()\n",
    "    for i in range(interval, len(dataset)):\n",
    "        value = dataset[i] - dataset[i - interval]\n",
    "        diff.append(value)\n",
    "    return Series(diff)\n",
    "\n",
    "raw_values = df.values\n",
    "diff_series = difference(raw_values, 1)\n",
    "diff_values = diff_series.values\n",
    "diff_values = diff_values.reshape(len(diff_values), 1)\n",
    "print(diff_values[:5])\n",
    "print(diff_values[-5:])"
   ]
  },
  {
   "cell_type": "markdown",
   "metadata": {},
   "source": [
    "As shown in the output above, the diff_values still has a large range. This can degrade the predictive performance of many machine learning algorighms. Unscaled data can also slow down or even prevent the convergence of many gradient-based estimators. \n",
    "Many estimators are designed with the assumption that each feature takes values close to zero. \n",
    "There are many differenct scalers. For this project, MinMaxScaler that rescale values to -1, 1 is used"
   ]
  },
  {
   "cell_type": "code",
   "execution_count": 7,
   "metadata": {},
   "outputs": [
    {
     "name": "stdout",
     "output_type": "stream",
     "text": [
      "[[0.02246711]\n",
      " [0.02155191]\n",
      " [0.02634758]\n",
      " [0.02660384]\n",
      " [0.02817799]]\n",
      "[[-0.46902807]\n",
      " [-0.27668499]\n",
      " [-0.46093597]\n",
      " [ 1.        ]\n",
      " [-0.52629527]]\n"
     ]
    },
    {
     "name": "stderr",
     "output_type": "stream",
     "text": [
      "/Users/allenliu/anaconda3/lib/python3.6/site-packages/sklearn/utils/validation.py:475: DataConversionWarning: Data with input dtype object was converted to float64 by MinMaxScaler.\n",
      "  warnings.warn(msg, DataConversionWarning)\n"
     ]
    }
   ],
   "source": [
    "from sklearn.preprocessing import MinMaxScaler\n",
    "# rescale values to -1, 1\n",
    "scaler = MinMaxScaler(feature_range=(-1, 1))\n",
    "scaled_values = scaler.fit_transform(diff_values)\n",
    "scaled_values = scaled_values.reshape(len(scaled_values), 1)\n",
    "print(scaled_values[:5])\n",
    "print(scaled_values[-5:])"
   ]
  },
  {
   "cell_type": "markdown",
   "metadata": {},
   "source": [
    "The stock prediction is a multi-step forecast problem. For a given time step, the model is required to make the next 30 day prediction. That is given t-1, forecast t, t+1, t+2... t+30. \n",
    "A key function to help transform time series data into multi-step forecast problem is the shift() function. \n",
    "By shifting the input (X) by -1 for 30 times, we can mimic the 30 days forecast.\n",
    "\n",
    "i.e. \n",
    "\n",
    "```X    y1  y2  y3  .... y30\n",
    "t    t+1 t+2 t+3 .... t+30```\n"
   ]
  },
  {
   "cell_type": "code",
   "execution_count": 8,
   "metadata": {},
   "outputs": [
    {
     "name": "stdout",
     "output_type": "stream",
     "text": [
      "(9369, 31)\n",
      "[[ 0.02246711  0.02155191  0.02634758 ...  0.02429752  0.02475512\n",
      "   0.02338232]\n",
      " [ 0.02155191  0.02634758  0.02660384 ...  0.02475512  0.02338232\n",
      "   0.02314436]\n",
      " [ 0.02634758  0.02660384  0.02817799 ...  0.02338232  0.02314436\n",
      "   0.02224746]\n",
      " ...\n",
      " [-0.50015155  0.10613377  0.86430164 ... -0.46902807 -0.27668499\n",
      "  -0.46093597]\n",
      " [ 0.10613377  0.86430164  0.22813779 ... -0.27668499 -0.46093597\n",
      "   1.        ]\n",
      " [ 0.86430164  0.22813779  0.40242926 ... -0.46093597  1.\n",
      "  -0.52629527]]\n"
     ]
    }
   ],
   "source": [
    "from pandas import DataFrame\n",
    "from pandas import concat\n",
    "\n",
    "# convert time series into multi-step problem\n",
    "def series_to_supervised(data, n_in, n_out=1, dropnan=True):\n",
    "    n_vars = 1 if type(data) is list else data.shape[1]\n",
    "    df = DataFrame(data)\n",
    "    cols, names = list(), list()\n",
    "    # input sequence (t-n, ... t-1)\n",
    "    for i in range(n_in, 0, -1):\n",
    "        cols.append(df.shift(i))\n",
    "        names += [('var%d(t-%d)' % (j + 1, i)) for j in range(n_vars)]\n",
    "    # forecast sequence (t, t+1, ... t+n)\n",
    "    for i in range(0, n_out):\n",
    "        cols.append(df.shift(-i))\n",
    "        if i == 0:\n",
    "            names += [('var%d(t)' % (j + 1)) for j in range(n_vars)]\n",
    "        else:\n",
    "            names += [('var%d(t+%d)' % (j + 1, i)) for j in range(n_vars)]\n",
    "    # put it all together\n",
    "    agg = concat(cols, axis=1)\n",
    "    agg.columns = names\n",
    "    # drop rows with NaN values\n",
    "    if dropnan:\n",
    "        agg.dropna(inplace=True)\n",
    "    return agg\n",
    "\n",
    "supervised = series_to_supervised(scaled_values, 1, 30)\n",
    "supervised_values = supervised.values\n",
    "print(supervised_values.shape)\n",
    "print(supervised_values)"
   ]
  },
  {
   "cell_type": "markdown",
   "metadata": {},
   "source": [
    "Next, we can split the data into training and test sets. Set  n_test = 3700"
   ]
  },
  {
   "cell_type": "code",
   "execution_count": 9,
   "metadata": {
    "collapsed": true
   },
   "outputs": [],
   "source": [
    "n_test = 3700 \n",
    "train, test = supervised_values[0:-n_test], supervised_values[-n_test:]"
   ]
  },
  {
   "cell_type": "code",
   "execution_count": 10,
   "metadata": {},
   "outputs": [
    {
     "name": "stdout",
     "output_type": "stream",
     "text": [
      "[0.02246711]\n",
      "[0.02155191 0.02634758 0.02660384 0.02817799 0.02773869 0.02750074\n",
      " 0.02817799 0.03070396 0.02612793 0.02360197 0.02340062 0.02588998\n",
      " 0.02383992 0.02246711 0.02270506 0.02405957 0.0281963  0.02473682\n",
      " 0.02316267 0.02545068 0.02634758 0.02475512 0.0286356  0.02340062\n",
      " 0.02634758 0.02588998 0.02499308 0.02429752 0.02475512 0.02338232]\n"
     ]
    }
   ],
   "source": [
    "#reshape training into X,y\n",
    "X, y = train[:, 0:1], train[:, 1:]\n",
    "print(X[0])\n",
    "print(y[0])"
   ]
  },
  {
   "cell_type": "markdown",
   "metadata": {},
   "source": [
    "## 3. Evaluate the performance of the model \n",
    "\n",
    "Next, we need to fit an LSTM network model to the training data. This first requires that the training dataset be transformed from a 2D array [samples, features] to a 3D array [samples, timesteps, features]. We will fix time steps at 1, so this change is straightforward.\n",
    "\n",
    "Next, we will use a simple structure with 1 hidden layer with 1 LSTM unit, then an output layer with linear activation and 30 output values. The network will use a mean squared error loss function and the efficient ADAM optimization algorithm.\n",
    "\n",
    "The LSTM is stateful; this means that we have to manually reset the state of the network at the end of each training epoch.\n",
    "\n",
    "The same batch size must be used for training and prediction, and we require predictions to be made at each time step of the test dataset. This means that a batch size of 1 must be used. \n"
   ]
  },
  {
   "cell_type": "code",
   "execution_count": 11,
   "metadata": {},
   "outputs": [
    {
     "name": "stderr",
     "output_type": "stream",
     "text": [
      "/Users/allenliu/anaconda3/lib/python3.6/site-packages/h5py/__init__.py:34: FutureWarning: Conversion of the second argument of issubdtype from `float` to `np.floating` is deprecated. In future, it will be treated as `np.float64 == np.dtype(float).type`.\n",
      "  from ._conv import register_converters as _register_converters\n",
      "Using TensorFlow backend.\n"
     ]
    }
   ],
   "source": [
    "# fit an LSTM network to training data\n",
    "from keras.models import Sequential\n",
    "from keras.layers import Dense\n",
    "from keras.layers import LSTM\n",
    "\n",
    "n_batch = 1\n",
    "nb_epoch = 5\n",
    "n_neurons = 1\n",
    "def fit_lstm(train, n_batch, nb_epoch, n_neurons):\n",
    "    # reshape training into [samples, timesteps, features]\n",
    "    X, y = train[:, 0:1], train[:, 1:]\n",
    "    X = X.reshape(X.shape[0], 1, X.shape[1])\n",
    "    # design network\n",
    "    model = Sequential()\n",
    "    model.add(LSTM(n_neurons, batch_input_shape=(n_batch, X.shape[1], X.shape[2]), stateful=True))\n",
    "    model.add(Dense(y.shape[1]))\n",
    "    model.compile(loss='mean_squared_error', optimizer='adam')\n",
    "    # fit network\n",
    "    for i in range(nb_epoch):\n",
    "        model.fit(X, y, epochs=1, batch_size=n_batch, verbose=0, shuffle=False)\n",
    "        model.reset_states()\n",
    "    return model\n",
    "\n",
    "model = fit_lstm(train, n_batch, nb_epoch, n_neurons)"
   ]
  },
  {
   "cell_type": "markdown",
   "metadata": {},
   "source": [
    "Using the trained model, we can make prediction using the test data"
   ]
  },
  {
   "cell_type": "code",
   "execution_count": 12,
   "metadata": {},
   "outputs": [
    {
     "name": "stdout",
     "output_type": "stream",
     "text": [
      "[0.026198275, 0.026595317, 0.026284806, 0.026084756, 0.025470339, 0.026116805, 0.025319705, 0.0253685, 0.02522781, 0.025257384, 0.025462227, 0.024972916, 0.025548225, 0.025344457, 0.02511889, 0.025582576, 0.02502049, 0.025551403, 0.025287965, 0.025724124, 0.024695963, 0.02569609, 0.025325477, 0.025377678, 0.025558801, 0.025288867, 0.025995502, 0.025619216, 0.025489422, 0.025804572]\n"
     ]
    }
   ],
   "source": [
    "\n",
    "# make one forecast with an LSTM,\n",
    "def forecast_lstm(model, X, n_batch):\n",
    "    # reshape input pattern to [samples, timesteps, features]\n",
    "    X = X.reshape(1, 1, len(X))\n",
    "    # make forecast\n",
    "    forecast = model.predict(X, batch_size=n_batch)\n",
    "    # convert to array\n",
    "    return [x for x in forecast[0, :]]\n",
    "\n",
    "\n",
    "# evaluate the persistence model\n",
    "def make_forecasts(model, n_batch, test):\n",
    "    forecasts = list()\n",
    "    for i in range(len(test)):\n",
    "        X, y = test[i, 0:1], test[i, 1:]\n",
    "        # make forecast\n",
    "        forecast = forecast_lstm(model, X, n_batch)\n",
    "        # store the forecast\n",
    "        forecasts.append(forecast)\n",
    "    return forecasts\n",
    "\n",
    "\n",
    "\n",
    "forecasts = make_forecasts(model, 1, test)\n",
    "print(forecasts[0])"
   ]
  },
  {
   "cell_type": "markdown",
   "metadata": {},
   "source": [
    "After the forecasts have been made, we need to invert the transforms to return the values back into the original scale. This is needed so that we can calculate error scores and plots that are comparable with the actual test output."
   ]
  },
  {
   "cell_type": "code",
   "execution_count": 13,
   "metadata": {},
   "outputs": [
    {
     "name": "stdout",
     "output_type": "stream",
     "text": [
      "[array([1.26606789]), array([1.27717357]), array([1.28578507]), array([1.29278967]), array([1.29485894]), array([1.30212097]), array([1.30298027]), array([1.30423152]), array([1.30435267]), array([1.30471138]), array([1.3067155]), array([1.30478921]), array([1.3074841]), array([1.30854223]), array([1.30778848]), array([1.3107593]), array([1.30921515]), array([1.31193557]), array([1.31253992]), array([1.31664773]), array([1.31249681]), array([1.31637943]), array([1.3172851]), array([1.31861007]), array([1.32138992]), array([1.32200151]), array([1.32828917]), array([1.3315543]), array([1.33377686]), array([1.33853086])]\n"
     ]
    }
   ],
   "source": [
    "from numpy import array\n",
    "\n",
    "def inverse_transform(series, forecasts, scaler, n_test):\n",
    "    inverted = list()\n",
    "    for i in range(len(forecasts)):\n",
    "        # create array from forecast\n",
    "        forecast = array(forecasts[i])\n",
    "        forecast = forecast.reshape(1, len(forecast))\n",
    "        # invert scaling\n",
    "        inv_scale = scaler.inverse_transform(forecast)\n",
    "        inv_scale = inv_scale[0, :]\n",
    "        # invert differencing\n",
    "        index = len(series) - n_test + i - 1\n",
    "        last_ob = series.values[index]\n",
    "        inv_diff = inverse_difference(last_ob, inv_scale)\n",
    "        # store\n",
    "        inverted.append(inv_diff)\n",
    "    return inverted\n",
    "\n",
    "# invert differenced forecast\n",
    "def inverse_difference(last_ob, forecast):\n",
    "    # invert first forecast\n",
    "    inverted = list()\n",
    "    inverted.append(forecast[0] + last_ob)\n",
    "    # propagate difference forecast using inverted first value\n",
    "    for i in range(1, len(forecast)):\n",
    "        inverted.append(forecast[i] + inverted[i - 1])\n",
    "    return inverted\n",
    "\n",
    "forecasts = inverse_transform(df, forecasts, scaler, n_test + 2)\n",
    "print(forecasts[0])"
   ]
  },
  {
   "cell_type": "markdown",
   "metadata": {},
   "source": [
    "Get the actual test target and transform the data to their original scale"
   ]
  },
  {
   "cell_type": "code",
   "execution_count": 14,
   "metadata": {
    "collapsed": true
   },
   "outputs": [],
   "source": [
    "actual = [row[1:] for row in test]\n",
    "actual = inverse_transform(df, actual, scaler, n_test + 2)"
   ]
  },
  {
   "cell_type": "markdown",
   "metadata": {},
   "source": [
    "Evaluate the RMSE for each forecast time step"
   ]
  },
  {
   "cell_type": "code",
   "execution_count": 15,
   "metadata": {},
   "outputs": [
    {
     "name": "stdout",
     "output_type": "stream",
     "text": [
      "t+1 RMSE: 1.029829\n",
      "t+2 RMSE: 1.477894\n",
      "t+3 RMSE: 1.801997\n",
      "t+4 RMSE: 2.076532\n",
      "t+5 RMSE: 2.337016\n",
      "t+6 RMSE: 2.561369\n",
      "t+7 RMSE: 2.762461\n",
      "t+8 RMSE: 2.968359\n",
      "t+9 RMSE: 3.154767\n",
      "t+10 RMSE: 3.338550\n",
      "t+11 RMSE: 3.514315\n",
      "t+12 RMSE: 3.670143\n",
      "t+13 RMSE: 3.812502\n",
      "t+14 RMSE: 3.957678\n",
      "t+15 RMSE: 4.108001\n",
      "t+16 RMSE: 4.242883\n",
      "t+17 RMSE: 4.374699\n",
      "t+18 RMSE: 4.512716\n",
      "t+19 RMSE: 4.649280\n",
      "t+20 RMSE: 4.779813\n",
      "t+21 RMSE: 4.914060\n",
      "t+22 RMSE: 5.044749\n",
      "t+23 RMSE: 5.159904\n",
      "t+24 RMSE: 5.269012\n",
      "t+25 RMSE: 5.380156\n",
      "t+26 RMSE: 5.480569\n",
      "t+27 RMSE: 5.583952\n",
      "t+28 RMSE: 5.684307\n",
      "t+29 RMSE: 5.782388\n",
      "t+30 RMSE: 5.879272\n"
     ]
    }
   ],
   "source": [
    "from math import sqrt\n",
    "from sklearn.metrics import mean_squared_error\n",
    "\n",
    "def evaluate_forecasts(test, forecasts, n_seq):\n",
    "    for i in range(n_seq):\n",
    "        actual = [row[i] for row in test]\n",
    "        predicted = [forecast[i] for forecast in forecasts]\n",
    "        rmse = sqrt(mean_squared_error(actual, predicted))\n",
    "        print('t+%d RMSE: %f' % ((i + 1), rmse))\n",
    "\n",
    "evaluate_forecasts(actual, forecasts, 30)"
   ]
  },
  {
   "cell_type": "markdown",
   "metadata": {},
   "source": [
    "Plot the forecast aginst the original dataset"
   ]
  },
  {
   "cell_type": "code",
   "execution_count": 16,
   "metadata": {},
   "outputs": [
    {
     "data": {
      "image/png": "[encoded data removed]",
      "text/plain": [
       "<matplotlib.figure.Figure at 0x1a2a62bf28>"
      ]
     },
     "metadata": {},
     "output_type": "display_data"
    }
   ],
   "source": [
    "def plot_forecasts(series, forecasts, n_test):\n",
    "    # plot the entire dataset in blue\n",
    "    plt.plot(series.values)\n",
    "    # plot the forecasts in red\n",
    "    for i in range(len(forecasts)):\n",
    "        off_s = len(series) - n_test + i - 1\n",
    "        off_e = off_s + len(forecasts[i]) + 1\n",
    "        xaxis = [x for x in range(off_s, off_e)]\n",
    "        yaxis = [series.values[off_s]] + forecasts[i]\n",
    "        plt.plot(xaxis, yaxis, color='red')\n",
    "    # show the plot\n",
    "    plt.show()\n",
    "\n",
    "plot_forecasts(df, forecasts, n_test + 2)"
   ]
  },
  {
   "cell_type": "markdown",
   "metadata": {},
   "source": [
    "### Conclusion:\n",
    "\n",
    "As shown in the RMSE values and the graph above, LSTM appears to be the best model for predicting the stock price compare with the other two models (SVR and DecisionTreeRegressor) from Capstone Project 1. \n",
    "\n",
    "Nevertheless, there is still room for improvement for the LSTM model. Following are ways that might improve it's performance:\n",
    "1. Tune the LSTM: Grid search some of the LSTM parameters used in the tutorial, such as number of epochs, number of neurons, and number of layers to see if you can further lift performance.\n",
    "2. Dropout: Slow down learning with regularization methods like dropout on the recurrent LSTM connections.\n",
    "3. Regularization: Explore how weight regularization, such as L1 and L2, can be used to slow down learning and overfitting of the network on some configurations."
   ]
  },
  {
   "cell_type": "code",
   "execution_count": null,
   "metadata": {
    "collapsed": true
   },
   "outputs": [],
   "source": []
  }
 ],
 "metadata": {
  "kernelspec": {
   "display_name": "Python 3",
   "language": "python",
   "name": "python3"
  },
  "language_info": {
   "codemirror_mode": {
    "name": "ipython",
    "version": 3
   },
   "file_extension": ".py",
   "mimetype": "text/x-python",
   "name": "python",
   "nbconvert_exporter": "python",
   "pygments_lexer": "ipython3",
   "version": "3.6.3"
  }
 },
 "nbformat": 4,
 "nbformat_minor": 2
}
