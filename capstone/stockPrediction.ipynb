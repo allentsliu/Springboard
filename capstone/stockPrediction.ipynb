{
 "cells": [
  {
   "cell_type": "code",
   "execution_count": 1,
   "metadata": {
    "collapsed": true
   },
   "outputs": [],
   "source": [
    "import pandas as pd\n",
    "import matplotlib.pyplot as plt"
   ]
  },
  {
   "cell_type": "code",
   "execution_count": 2,
   "metadata": {
    "collapsed": true
   },
   "outputs": [],
   "source": [
    "df = pd.read_csv('data/NVDA.csv', usecols=['date','adj_open','adj_high','adj_low', 'adj_close', 'adj_volume'], delimiter='\\t', header=0, index_col='date', parse_dates=True)"
   ]
  },
  {
   "cell_type": "code",
   "execution_count": 3,
   "metadata": {},
   "outputs": [
    {
     "data": {
      "text/plain": [
       "(4804, 5)"
      ]
     },
     "execution_count": 3,
     "metadata": {},
     "output_type": "execute_result"
    }
   ],
   "source": [
    "df.shape"
   ]
  },
  {
   "cell_type": "code",
   "execution_count": 4,
   "metadata": {},
   "outputs": [
    {
     "name": "stdout",
     "output_type": "stream",
     "text": [
      "<class 'pandas.core.frame.DataFrame'>\n",
      "DatetimeIndex: 4804 entries, 1999-01-22 to 2018-02-26\n",
      "Data columns (total 5 columns):\n",
      "adj_open      4804 non-null float64\n",
      "adj_high      4804 non-null float64\n",
      "adj_low       4804 non-null float64\n",
      "adj_close     4804 non-null float64\n",
      "adj_volume    4804 non-null float64\n",
      "dtypes: float64(5)\n",
      "memory usage: 225.2 KB\n"
     ]
    }
   ],
   "source": [
    "df.info()"
   ]
  },
  {
   "cell_type": "code",
   "execution_count": 5,
   "metadata": {},
   "outputs": [
    {
     "data": {
      "text/html": [
       "<div>\n",
       "<style>\n",
       "    .dataframe thead tr:only-child th {\n",
       "        text-align: right;\n",
       "    }\n",
       "\n",
       "    .dataframe thead th {\n",
       "        text-align: left;\n",
       "    }\n",
       "\n",
       "    .dataframe tbody tr th {\n",
       "        vertical-align: top;\n",
       "    }\n",
       "</style>\n",
       "<table border=\"1\" class=\"dataframe\">\n",
       "  <thead>\n",
       "    <tr style=\"text-align: right;\">\n",
       "      <th></th>\n",
       "      <th>adj_open</th>\n",
       "      <th>adj_high</th>\n",
       "      <th>adj_low</th>\n",
       "      <th>adj_close</th>\n",
       "      <th>adj_volume</th>\n",
       "    </tr>\n",
       "    <tr>\n",
       "      <th>date</th>\n",
       "      <th></th>\n",
       "      <th></th>\n",
       "      <th></th>\n",
       "      <th></th>\n",
       "      <th></th>\n",
       "    </tr>\n",
       "  </thead>\n",
       "  <tbody>\n",
       "    <tr>\n",
       "      <th>1999-01-22</th>\n",
       "      <td>1.623824</td>\n",
       "      <td>1.812497</td>\n",
       "      <td>1.440564</td>\n",
       "      <td>1.522529</td>\n",
       "      <td>67867200.0</td>\n",
       "    </tr>\n",
       "    <tr>\n",
       "      <th>1999-01-25</th>\n",
       "      <td>1.643156</td>\n",
       "      <td>1.701149</td>\n",
       "      <td>1.522529</td>\n",
       "      <td>1.681818</td>\n",
       "      <td>12762000.0</td>\n",
       "    </tr>\n",
       "    <tr>\n",
       "      <th>1999-01-26</th>\n",
       "      <td>1.701149</td>\n",
       "      <td>1.735172</td>\n",
       "      <td>1.527168</td>\n",
       "      <td>1.551139</td>\n",
       "      <td>8580000.0</td>\n",
       "    </tr>\n",
       "    <tr>\n",
       "      <th>1999-01-27</th>\n",
       "      <td>1.556552</td>\n",
       "      <td>1.595214</td>\n",
       "      <td>1.469174</td>\n",
       "      <td>1.546499</td>\n",
       "      <td>6109200.0</td>\n",
       "    </tr>\n",
       "    <tr>\n",
       "      <th>1999-01-28</th>\n",
       "      <td>1.546499</td>\n",
       "      <td>1.556552</td>\n",
       "      <td>1.531808</td>\n",
       "      <td>1.541860</td>\n",
       "      <td>5688000.0</td>\n",
       "    </tr>\n",
       "  </tbody>\n",
       "</table>\n",
       "</div>"
      ],
      "text/plain": [
       "            adj_open  adj_high   adj_low  adj_close  adj_volume\n",
       "date                                                           \n",
       "1999-01-22  1.623824  1.812497  1.440564   1.522529  67867200.0\n",
       "1999-01-25  1.643156  1.701149  1.522529   1.681818  12762000.0\n",
       "1999-01-26  1.701149  1.735172  1.527168   1.551139   8580000.0\n",
       "1999-01-27  1.556552  1.595214  1.469174   1.546499   6109200.0\n",
       "1999-01-28  1.546499  1.556552  1.531808   1.541860   5688000.0"
      ]
     },
     "execution_count": 5,
     "metadata": {},
     "output_type": "execute_result"
    }
   ],
   "source": [
    "df.head()"
   ]
  },
  {
   "cell_type": "code",
   "execution_count": 6,
   "metadata": {
    "collapsed": true
   },
   "outputs": [],
   "source": [
    "df['rolling_mean'] = df['adj_close'].rolling(window=20, center=False).mean()"
   ]
  },
  {
   "cell_type": "code",
   "execution_count": 7,
   "metadata": {},
   "outputs": [
    {
     "data": {
      "text/plain": [
       "[<matplotlib.lines.Line2D at 0x1069c4a58>]"
      ]
     },
     "execution_count": 7,
     "metadata": {},
     "output_type": "execute_result"
    }
   ],
   "source": [
    "plt.plot(df['adj_close'], label='NVDA')"
   ]
  },
  {
   "cell_type": "code",
   "execution_count": 8,
   "metadata": {
    "collapsed": true
   },
   "outputs": [],
   "source": [
    "# df['rolling_mean'].plot(label='NVDA rolling mean')\n",
    "plt.plot(df['rolling_mean'], label='NVDA rolling mean')\n",
    "plt.rcParams['figure.figsize'] = 16, 12"
   ]
  },
  {
   "cell_type": "code",
   "execution_count": 9,
   "metadata": {
    "collapsed": true
   },
   "outputs": [],
   "source": [
    "df['shifted_price_5'] = df['adj_close'].shift(periods = -5)"
   ]
  },
  {
   "cell_type": "code",
   "execution_count": 10,
   "metadata": {
    "collapsed": true
   },
   "outputs": [],
   "source": [
    "df['shifted_price_30'] = df['adj_close'].shift(periods= -30)"
   ]
  },
  {
   "cell_type": "code",
   "execution_count": 11,
   "metadata": {
    "collapsed": true
   },
   "outputs": [],
   "source": [
    "df['shifted_price_90'] = df['adj_close'].shift(periods=-90)"
   ]
  },
  {
   "cell_type": "code",
   "execution_count": 12,
   "metadata": {},
   "outputs": [
    {
     "data": {
      "text/html": [
       "<div>\n",
       "<style>\n",
       "    .dataframe thead tr:only-child th {\n",
       "        text-align: right;\n",
       "    }\n",
       "\n",
       "    .dataframe thead th {\n",
       "        text-align: left;\n",
       "    }\n",
       "\n",
       "    .dataframe tbody tr th {\n",
       "        vertical-align: top;\n",
       "    }\n",
       "</style>\n",
       "<table border=\"1\" class=\"dataframe\">\n",
       "  <thead>\n",
       "    <tr style=\"text-align: right;\">\n",
       "      <th></th>\n",
       "      <th>adj_open</th>\n",
       "      <th>adj_high</th>\n",
       "      <th>adj_low</th>\n",
       "      <th>adj_close</th>\n",
       "      <th>adj_volume</th>\n",
       "      <th>rolling_mean</th>\n",
       "      <th>shifted_price_5</th>\n",
       "      <th>shifted_price_30</th>\n",
       "      <th>shifted_price_90</th>\n",
       "    </tr>\n",
       "    <tr>\n",
       "      <th>date</th>\n",
       "      <th></th>\n",
       "      <th></th>\n",
       "      <th></th>\n",
       "      <th></th>\n",
       "      <th></th>\n",
       "      <th></th>\n",
       "      <th></th>\n",
       "      <th></th>\n",
       "      <th></th>\n",
       "    </tr>\n",
       "  </thead>\n",
       "  <tbody>\n",
       "    <tr>\n",
       "      <th>2018-02-12</th>\n",
       "      <td>235.355</td>\n",
       "      <td>235.4800</td>\n",
       "      <td>225.0305</td>\n",
       "      <td>228.03</td>\n",
       "      <td>27179807.0</td>\n",
       "      <td>232.1450</td>\n",
       "      <td>249.08</td>\n",
       "      <td>NaN</td>\n",
       "      <td>NaN</td>\n",
       "    </tr>\n",
       "    <tr>\n",
       "      <th>2018-02-13</th>\n",
       "      <td>226.560</td>\n",
       "      <td>234.5000</td>\n",
       "      <td>225.2500</td>\n",
       "      <td>232.63</td>\n",
       "      <td>15573359.0</td>\n",
       "      <td>232.7710</td>\n",
       "      <td>241.51</td>\n",
       "      <td>NaN</td>\n",
       "      <td>NaN</td>\n",
       "    </tr>\n",
       "    <tr>\n",
       "      <th>2018-02-14</th>\n",
       "      <td>231.000</td>\n",
       "      <td>242.5925</td>\n",
       "      <td>230.5500</td>\n",
       "      <td>241.42</td>\n",
       "      <td>18453757.0</td>\n",
       "      <td>233.6060</td>\n",
       "      <td>242.15</td>\n",
       "      <td>NaN</td>\n",
       "      <td>NaN</td>\n",
       "    </tr>\n",
       "    <tr>\n",
       "      <th>2018-02-15</th>\n",
       "      <td>244.785</td>\n",
       "      <td>248.3700</td>\n",
       "      <td>241.5200</td>\n",
       "      <td>246.50</td>\n",
       "      <td>17392024.0</td>\n",
       "      <td>234.7090</td>\n",
       "      <td>245.93</td>\n",
       "      <td>NaN</td>\n",
       "      <td>NaN</td>\n",
       "    </tr>\n",
       "    <tr>\n",
       "      <th>2018-02-16</th>\n",
       "      <td>245.400</td>\n",
       "      <td>250.0000</td>\n",
       "      <td>243.4700</td>\n",
       "      <td>243.84</td>\n",
       "      <td>15812549.0</td>\n",
       "      <td>235.3955</td>\n",
       "      <td>246.58</td>\n",
       "      <td>NaN</td>\n",
       "      <td>NaN</td>\n",
       "    </tr>\n",
       "    <tr>\n",
       "      <th>2018-02-20</th>\n",
       "      <td>244.750</td>\n",
       "      <td>251.8700</td>\n",
       "      <td>244.6000</td>\n",
       "      <td>249.08</td>\n",
       "      <td>17075723.0</td>\n",
       "      <td>236.1650</td>\n",
       "      <td>NaN</td>\n",
       "      <td>NaN</td>\n",
       "      <td>NaN</td>\n",
       "    </tr>\n",
       "    <tr>\n",
       "      <th>2018-02-21</th>\n",
       "      <td>251.690</td>\n",
       "      <td>251.9675</td>\n",
       "      <td>241.3600</td>\n",
       "      <td>241.51</td>\n",
       "      <td>21021844.0</td>\n",
       "      <td>236.2950</td>\n",
       "      <td>NaN</td>\n",
       "      <td>NaN</td>\n",
       "      <td>NaN</td>\n",
       "    </tr>\n",
       "    <tr>\n",
       "      <th>2018-02-22</th>\n",
       "      <td>242.730</td>\n",
       "      <td>245.6300</td>\n",
       "      <td>239.5000</td>\n",
       "      <td>242.15</td>\n",
       "      <td>12998992.0</td>\n",
       "      <td>236.6125</td>\n",
       "      <td>NaN</td>\n",
       "      <td>NaN</td>\n",
       "      <td>NaN</td>\n",
       "    </tr>\n",
       "    <tr>\n",
       "      <th>2018-02-23</th>\n",
       "      <td>244.570</td>\n",
       "      <td>245.9300</td>\n",
       "      <td>242.5201</td>\n",
       "      <td>245.93</td>\n",
       "      <td>10258215.0</td>\n",
       "      <td>237.0915</td>\n",
       "      <td>NaN</td>\n",
       "      <td>NaN</td>\n",
       "      <td>NaN</td>\n",
       "    </tr>\n",
       "    <tr>\n",
       "      <th>2018-02-26</th>\n",
       "      <td>247.800</td>\n",
       "      <td>247.9800</td>\n",
       "      <td>244.0600</td>\n",
       "      <td>246.58</td>\n",
       "      <td>11145830.0</td>\n",
       "      <td>237.2540</td>\n",
       "      <td>NaN</td>\n",
       "      <td>NaN</td>\n",
       "      <td>NaN</td>\n",
       "    </tr>\n",
       "  </tbody>\n",
       "</table>\n",
       "</div>"
      ],
      "text/plain": [
       "            adj_open  adj_high   adj_low  adj_close  adj_volume  rolling_mean  \\\n",
       "date                                                                            \n",
       "2018-02-12   235.355  235.4800  225.0305     228.03  27179807.0      232.1450   \n",
       "2018-02-13   226.560  234.5000  225.2500     232.63  15573359.0      232.7710   \n",
       "2018-02-14   231.000  242.5925  230.5500     241.42  18453757.0      233.6060   \n",
       "2018-02-15   244.785  248.3700  241.5200     246.50  17392024.0      234.7090   \n",
       "2018-02-16   245.400  250.0000  243.4700     243.84  15812549.0      235.3955   \n",
       "2018-02-20   244.750  251.8700  244.6000     249.08  17075723.0      236.1650   \n",
       "2018-02-21   251.690  251.9675  241.3600     241.51  21021844.0      236.2950   \n",
       "2018-02-22   242.730  245.6300  239.5000     242.15  12998992.0      236.6125   \n",
       "2018-02-23   244.570  245.9300  242.5201     245.93  10258215.0      237.0915   \n",
       "2018-02-26   247.800  247.9800  244.0600     246.58  11145830.0      237.2540   \n",
       "\n",
       "            shifted_price_5  shifted_price_30  shifted_price_90  \n",
       "date                                                             \n",
       "2018-02-12           249.08               NaN               NaN  \n",
       "2018-02-13           241.51               NaN               NaN  \n",
       "2018-02-14           242.15               NaN               NaN  \n",
       "2018-02-15           245.93               NaN               NaN  \n",
       "2018-02-16           246.58               NaN               NaN  \n",
       "2018-02-20              NaN               NaN               NaN  \n",
       "2018-02-21              NaN               NaN               NaN  \n",
       "2018-02-22              NaN               NaN               NaN  \n",
       "2018-02-23              NaN               NaN               NaN  \n",
       "2018-02-26              NaN               NaN               NaN  "
      ]
     },
     "execution_count": 12,
     "metadata": {},
     "output_type": "execute_result"
    }
   ],
   "source": [
    "df.tail(10)"
   ]
  },
  {
   "cell_type": "code",
   "execution_count": 13,
   "metadata": {
    "collapsed": true
   },
   "outputs": [],
   "source": [
    "df['upper_bollinger'] = df['rolling_mean'] + df['adj_close'].rolling(window=20).std() * 2\n",
    "df['lower_bollinger'] = df['rolling_mean'] - df['adj_close'].rolling(window=20).std() * 2\n",
    "df['daily_return'] = (df['adj_close']/df['adj_close'].shift(1))-1"
   ]
  },
  {
   "cell_type": "code",
   "execution_count": 14,
   "metadata": {},
   "outputs": [
    {
     "data": {
      "text/html": [
       "<div>\n",
       "<style>\n",
       "    .dataframe thead tr:only-child th {\n",
       "        text-align: right;\n",
       "    }\n",
       "\n",
       "    .dataframe thead th {\n",
       "        text-align: left;\n",
       "    }\n",
       "\n",
       "    .dataframe tbody tr th {\n",
       "        vertical-align: top;\n",
       "    }\n",
       "</style>\n",
       "<table border=\"1\" class=\"dataframe\">\n",
       "  <thead>\n",
       "    <tr style=\"text-align: right;\">\n",
       "      <th></th>\n",
       "      <th>adj_open</th>\n",
       "      <th>adj_high</th>\n",
       "      <th>adj_low</th>\n",
       "      <th>adj_close</th>\n",
       "      <th>adj_volume</th>\n",
       "      <th>rolling_mean</th>\n",
       "      <th>shifted_price_5</th>\n",
       "      <th>shifted_price_30</th>\n",
       "      <th>shifted_price_90</th>\n",
       "      <th>upper_bollinger</th>\n",
       "      <th>lower_bollinger</th>\n",
       "      <th>daily_return</th>\n",
       "    </tr>\n",
       "    <tr>\n",
       "      <th>date</th>\n",
       "      <th></th>\n",
       "      <th></th>\n",
       "      <th></th>\n",
       "      <th></th>\n",
       "      <th></th>\n",
       "      <th></th>\n",
       "      <th></th>\n",
       "      <th></th>\n",
       "      <th></th>\n",
       "      <th></th>\n",
       "      <th></th>\n",
       "      <th></th>\n",
       "    </tr>\n",
       "  </thead>\n",
       "  <tbody>\n",
       "    <tr>\n",
       "      <th>1999-01-22</th>\n",
       "      <td>1.623824</td>\n",
       "      <td>1.812497</td>\n",
       "      <td>1.440564</td>\n",
       "      <td>1.522529</td>\n",
       "      <td>67867200.0</td>\n",
       "      <td>NaN</td>\n",
       "      <td>1.469174</td>\n",
       "      <td>1.653208</td>\n",
       "      <td>1.275862</td>\n",
       "      <td>NaN</td>\n",
       "      <td>NaN</td>\n",
       "      <td>NaN</td>\n",
       "    </tr>\n",
       "    <tr>\n",
       "      <th>1999-01-25</th>\n",
       "      <td>1.643156</td>\n",
       "      <td>1.701149</td>\n",
       "      <td>1.522529</td>\n",
       "      <td>1.681818</td>\n",
       "      <td>12762000.0</td>\n",
       "      <td>NaN</td>\n",
       "      <td>1.498558</td>\n",
       "      <td>1.705789</td>\n",
       "      <td>1.309885</td>\n",
       "      <td>NaN</td>\n",
       "      <td>NaN</td>\n",
       "      <td>0.104622</td>\n",
       "    </tr>\n",
       "    <tr>\n",
       "      <th>1999-01-26</th>\n",
       "      <td>1.701149</td>\n",
       "      <td>1.735172</td>\n",
       "      <td>1.527168</td>\n",
       "      <td>1.551139</td>\n",
       "      <td>8580000.0</td>\n",
       "      <td>NaN</td>\n",
       "      <td>1.382571</td>\n",
       "      <td>1.677179</td>\n",
       "      <td>1.319164</td>\n",
       "      <td>NaN</td>\n",
       "      <td>NaN</td>\n",
       "      <td>-0.077701</td>\n",
       "    </tr>\n",
       "    <tr>\n",
       "      <th>1999-01-27</th>\n",
       "      <td>1.556552</td>\n",
       "      <td>1.595214</td>\n",
       "      <td>1.469174</td>\n",
       "      <td>1.546499</td>\n",
       "      <td>6109200.0</td>\n",
       "      <td>NaN</td>\n",
       "      <td>1.411181</td>\n",
       "      <td>1.604493</td>\n",
       "      <td>1.333856</td>\n",
       "      <td>NaN</td>\n",
       "      <td>NaN</td>\n",
       "      <td>-0.002991</td>\n",
       "    </tr>\n",
       "    <tr>\n",
       "      <th>1999-01-28</th>\n",
       "      <td>1.546499</td>\n",
       "      <td>1.556552</td>\n",
       "      <td>1.531808</td>\n",
       "      <td>1.541860</td>\n",
       "      <td>5688000.0</td>\n",
       "      <td>NaN</td>\n",
       "      <td>1.488506</td>\n",
       "      <td>1.575883</td>\n",
       "      <td>1.367879</td>\n",
       "      <td>NaN</td>\n",
       "      <td>NaN</td>\n",
       "      <td>-0.003000</td>\n",
       "    </tr>\n",
       "    <tr>\n",
       "      <th>1999-01-29</th>\n",
       "      <td>1.541860</td>\n",
       "      <td>1.546499</td>\n",
       "      <td>1.469174</td>\n",
       "      <td>1.469174</td>\n",
       "      <td>6100800.0</td>\n",
       "      <td>NaN</td>\n",
       "      <td>1.531808</td>\n",
       "      <td>1.643156</td>\n",
       "      <td>1.391850</td>\n",
       "      <td>NaN</td>\n",
       "      <td>NaN</td>\n",
       "      <td>-0.047141</td>\n",
       "    </tr>\n",
       "    <tr>\n",
       "      <th>1999-02-01</th>\n",
       "      <td>1.469174</td>\n",
       "      <td>1.507837</td>\n",
       "      <td>1.469174</td>\n",
       "      <td>1.498558</td>\n",
       "      <td>3867600.0</td>\n",
       "      <td>NaN</td>\n",
       "      <td>1.479227</td>\n",
       "      <td>1.589801</td>\n",
       "      <td>1.396489</td>\n",
       "      <td>NaN</td>\n",
       "      <td>NaN</td>\n",
       "      <td>0.020000</td>\n",
       "    </tr>\n",
       "    <tr>\n",
       "      <th>1999-02-02</th>\n",
       "      <td>1.469174</td>\n",
       "      <td>1.507837</td>\n",
       "      <td>1.338495</td>\n",
       "      <td>1.382571</td>\n",
       "      <td>6602400.0</td>\n",
       "      <td>NaN</td>\n",
       "      <td>1.421233</td>\n",
       "      <td>1.599854</td>\n",
       "      <td>1.372518</td>\n",
       "      <td>NaN</td>\n",
       "      <td>NaN</td>\n",
       "      <td>-0.077399</td>\n",
       "    </tr>\n",
       "    <tr>\n",
       "      <th>1999-02-03</th>\n",
       "      <td>1.363239</td>\n",
       "      <td>1.430512</td>\n",
       "      <td>1.353187</td>\n",
       "      <td>1.411181</td>\n",
       "      <td>1878000.0</td>\n",
       "      <td>NaN</td>\n",
       "      <td>1.406541</td>\n",
       "      <td>1.619185</td>\n",
       "      <td>1.314525</td>\n",
       "      <td>NaN</td>\n",
       "      <td>NaN</td>\n",
       "      <td>0.020694</td>\n",
       "    </tr>\n",
       "    <tr>\n",
       "      <th>1999-02-04</th>\n",
       "      <td>1.430512</td>\n",
       "      <td>1.527168</td>\n",
       "      <td>1.411181</td>\n",
       "      <td>1.488506</td>\n",
       "      <td>4548000.0</td>\n",
       "      <td>NaN</td>\n",
       "      <td>1.527168</td>\n",
       "      <td>1.623824</td>\n",
       "      <td>1.314525</td>\n",
       "      <td>NaN</td>\n",
       "      <td>NaN</td>\n",
       "      <td>0.054795</td>\n",
       "    </tr>\n",
       "    <tr>\n",
       "      <th>1999-02-05</th>\n",
       "      <td>1.512476</td>\n",
       "      <td>1.546499</td>\n",
       "      <td>1.473814</td>\n",
       "      <td>1.531808</td>\n",
       "      <td>3421200.0</td>\n",
       "      <td>NaN</td>\n",
       "      <td>1.614545</td>\n",
       "      <td>1.575883</td>\n",
       "      <td>1.353187</td>\n",
       "      <td>NaN</td>\n",
       "      <td>NaN</td>\n",
       "      <td>0.029091</td>\n",
       "    </tr>\n",
       "    <tr>\n",
       "      <th>1999-02-08</th>\n",
       "      <td>1.541860</td>\n",
       "      <td>1.546499</td>\n",
       "      <td>1.479227</td>\n",
       "      <td>1.479227</td>\n",
       "      <td>3852000.0</td>\n",
       "      <td>NaN</td>\n",
       "      <td>1.623824</td>\n",
       "      <td>1.479227</td>\n",
       "      <td>1.314525</td>\n",
       "      <td>NaN</td>\n",
       "      <td>NaN</td>\n",
       "      <td>-0.034326</td>\n",
       "    </tr>\n",
       "    <tr>\n",
       "      <th>1999-02-09</th>\n",
       "      <td>1.507837</td>\n",
       "      <td>1.517889</td>\n",
       "      <td>1.401902</td>\n",
       "      <td>1.421233</td>\n",
       "      <td>2174400.0</td>\n",
       "      <td>NaN</td>\n",
       "      <td>1.537220</td>\n",
       "      <td>1.469174</td>\n",
       "      <td>1.266583</td>\n",
       "      <td>NaN</td>\n",
       "      <td>NaN</td>\n",
       "      <td>-0.039205</td>\n",
       "    </tr>\n",
       "    <tr>\n",
       "      <th>1999-02-10</th>\n",
       "      <td>1.421233</td>\n",
       "      <td>1.459895</td>\n",
       "      <td>1.382571</td>\n",
       "      <td>1.406541</td>\n",
       "      <td>3705600.0</td>\n",
       "      <td>NaN</td>\n",
       "      <td>1.561191</td>\n",
       "      <td>1.488506</td>\n",
       "      <td>1.333856</td>\n",
       "      <td>NaN</td>\n",
       "      <td>NaN</td>\n",
       "      <td>-0.010337</td>\n",
       "    </tr>\n",
       "    <tr>\n",
       "      <th>1999-02-11</th>\n",
       "      <td>1.411181</td>\n",
       "      <td>1.585162</td>\n",
       "      <td>1.411181</td>\n",
       "      <td>1.527168</td>\n",
       "      <td>3306000.0</td>\n",
       "      <td>NaN</td>\n",
       "      <td>1.614545</td>\n",
       "      <td>1.619185</td>\n",
       "      <td>1.309885</td>\n",
       "      <td>NaN</td>\n",
       "      <td>NaN</td>\n",
       "      <td>0.085761</td>\n",
       "    </tr>\n",
       "    <tr>\n",
       "      <th>1999-02-12</th>\n",
       "      <td>1.546499</td>\n",
       "      <td>1.623824</td>\n",
       "      <td>1.546499</td>\n",
       "      <td>1.614545</td>\n",
       "      <td>2743200.0</td>\n",
       "      <td>NaN</td>\n",
       "      <td>1.623824</td>\n",
       "      <td>1.667126</td>\n",
       "      <td>1.333856</td>\n",
       "      <td>NaN</td>\n",
       "      <td>NaN</td>\n",
       "      <td>0.057215</td>\n",
       "    </tr>\n",
       "    <tr>\n",
       "      <th>1999-02-16</th>\n",
       "      <td>1.643156</td>\n",
       "      <td>1.711202</td>\n",
       "      <td>1.459895</td>\n",
       "      <td>1.623824</td>\n",
       "      <td>5275200.0</td>\n",
       "      <td>NaN</td>\n",
       "      <td>1.701149</td>\n",
       "      <td>1.527168</td>\n",
       "      <td>1.305246</td>\n",
       "      <td>NaN</td>\n",
       "      <td>NaN</td>\n",
       "      <td>0.005747</td>\n",
       "    </tr>\n",
       "    <tr>\n",
       "      <th>1999-02-17</th>\n",
       "      <td>1.585162</td>\n",
       "      <td>1.604493</td>\n",
       "      <td>1.507837</td>\n",
       "      <td>1.537220</td>\n",
       "      <td>1693200.0</td>\n",
       "      <td>NaN</td>\n",
       "      <td>1.836468</td>\n",
       "      <td>1.633877</td>\n",
       "      <td>1.324577</td>\n",
       "      <td>NaN</td>\n",
       "      <td>NaN</td>\n",
       "      <td>-0.053333</td>\n",
       "    </tr>\n",
       "    <tr>\n",
       "      <th>1999-02-18</th>\n",
       "      <td>1.585162</td>\n",
       "      <td>1.604493</td>\n",
       "      <td>1.517889</td>\n",
       "      <td>1.561191</td>\n",
       "      <td>1767600.0</td>\n",
       "      <td>NaN</td>\n",
       "      <td>1.778474</td>\n",
       "      <td>1.585162</td>\n",
       "      <td>1.343908</td>\n",
       "      <td>NaN</td>\n",
       "      <td>NaN</td>\n",
       "      <td>0.015594</td>\n",
       "    </tr>\n",
       "    <tr>\n",
       "      <th>1999-02-19</th>\n",
       "      <td>1.546499</td>\n",
       "      <td>1.643156</td>\n",
       "      <td>1.527168</td>\n",
       "      <td>1.614545</td>\n",
       "      <td>1884000.0</td>\n",
       "      <td>1.520557</td>\n",
       "      <td>1.696510</td>\n",
       "      <td>1.537220</td>\n",
       "      <td>1.357827</td>\n",
       "      <td>1.678324</td>\n",
       "      <td>1.36279</td>\n",
       "      <td>0.034175</td>\n",
       "    </tr>\n",
       "  </tbody>\n",
       "</table>\n",
       "</div>"
      ],
      "text/plain": [
       "            adj_open  adj_high   adj_low  adj_close  adj_volume  rolling_mean  \\\n",
       "date                                                                            \n",
       "1999-01-22  1.623824  1.812497  1.440564   1.522529  67867200.0           NaN   \n",
       "1999-01-25  1.643156  1.701149  1.522529   1.681818  12762000.0           NaN   \n",
       "1999-01-26  1.701149  1.735172  1.527168   1.551139   8580000.0           NaN   \n",
       "1999-01-27  1.556552  1.595214  1.469174   1.546499   6109200.0           NaN   \n",
       "1999-01-28  1.546499  1.556552  1.531808   1.541860   5688000.0           NaN   \n",
       "1999-01-29  1.541860  1.546499  1.469174   1.469174   6100800.0           NaN   \n",
       "1999-02-01  1.469174  1.507837  1.469174   1.498558   3867600.0           NaN   \n",
       "1999-02-02  1.469174  1.507837  1.338495   1.382571   6602400.0           NaN   \n",
       "1999-02-03  1.363239  1.430512  1.353187   1.411181   1878000.0           NaN   \n",
       "1999-02-04  1.430512  1.527168  1.411181   1.488506   4548000.0           NaN   \n",
       "1999-02-05  1.512476  1.546499  1.473814   1.531808   3421200.0           NaN   \n",
       "1999-02-08  1.541860  1.546499  1.479227   1.479227   3852000.0           NaN   \n",
       "1999-02-09  1.507837  1.517889  1.401902   1.421233   2174400.0           NaN   \n",
       "1999-02-10  1.421233  1.459895  1.382571   1.406541   3705600.0           NaN   \n",
       "1999-02-11  1.411181  1.585162  1.411181   1.527168   3306000.0           NaN   \n",
       "1999-02-12  1.546499  1.623824  1.546499   1.614545   2743200.0           NaN   \n",
       "1999-02-16  1.643156  1.711202  1.459895   1.623824   5275200.0           NaN   \n",
       "1999-02-17  1.585162  1.604493  1.507837   1.537220   1693200.0           NaN   \n",
       "1999-02-18  1.585162  1.604493  1.517889   1.561191   1767600.0           NaN   \n",
       "1999-02-19  1.546499  1.643156  1.527168   1.614545   1884000.0      1.520557   \n",
       "\n",
       "            shifted_price_5  shifted_price_30  shifted_price_90  \\\n",
       "date                                                              \n",
       "1999-01-22         1.469174          1.653208          1.275862   \n",
       "1999-01-25         1.498558          1.705789          1.309885   \n",
       "1999-01-26         1.382571          1.677179          1.319164   \n",
       "1999-01-27         1.411181          1.604493          1.333856   \n",
       "1999-01-28         1.488506          1.575883          1.367879   \n",
       "1999-01-29         1.531808          1.643156          1.391850   \n",
       "1999-02-01         1.479227          1.589801          1.396489   \n",
       "1999-02-02         1.421233          1.599854          1.372518   \n",
       "1999-02-03         1.406541          1.619185          1.314525   \n",
       "1999-02-04         1.527168          1.623824          1.314525   \n",
       "1999-02-05         1.614545          1.575883          1.353187   \n",
       "1999-02-08         1.623824          1.479227          1.314525   \n",
       "1999-02-09         1.537220          1.469174          1.266583   \n",
       "1999-02-10         1.561191          1.488506          1.333856   \n",
       "1999-02-11         1.614545          1.619185          1.309885   \n",
       "1999-02-12         1.623824          1.667126          1.333856   \n",
       "1999-02-16         1.701149          1.527168          1.305246   \n",
       "1999-02-17         1.836468          1.633877          1.324577   \n",
       "1999-02-18         1.778474          1.585162          1.343908   \n",
       "1999-02-19         1.696510          1.537220          1.357827   \n",
       "\n",
       "            upper_bollinger  lower_bollinger  daily_return  \n",
       "date                                                        \n",
       "1999-01-22              NaN              NaN           NaN  \n",
       "1999-01-25              NaN              NaN      0.104622  \n",
       "1999-01-26              NaN              NaN     -0.077701  \n",
       "1999-01-27              NaN              NaN     -0.002991  \n",
       "1999-01-28              NaN              NaN     -0.003000  \n",
       "1999-01-29              NaN              NaN     -0.047141  \n",
       "1999-02-01              NaN              NaN      0.020000  \n",
       "1999-02-02              NaN              NaN     -0.077399  \n",
       "1999-02-03              NaN              NaN      0.020694  \n",
       "1999-02-04              NaN              NaN      0.054795  \n",
       "1999-02-05              NaN              NaN      0.029091  \n",
       "1999-02-08              NaN              NaN     -0.034326  \n",
       "1999-02-09              NaN              NaN     -0.039205  \n",
       "1999-02-10              NaN              NaN     -0.010337  \n",
       "1999-02-11              NaN              NaN      0.085761  \n",
       "1999-02-12              NaN              NaN      0.057215  \n",
       "1999-02-16              NaN              NaN      0.005747  \n",
       "1999-02-17              NaN              NaN     -0.053333  \n",
       "1999-02-18              NaN              NaN      0.015594  \n",
       "1999-02-19         1.678324          1.36279      0.034175  "
      ]
     },
     "execution_count": 14,
     "metadata": {},
     "output_type": "execute_result"
    }
   ],
   "source": [
    "df.head(20)"
   ]
  },
  {
   "cell_type": "code",
   "execution_count": 15,
   "metadata": {},
   "outputs": [
    {
     "data": {
      "image/png": "[encoded data removed]",
      "text/plain": [
       "<matplotlib.figure.Figure at 0x106919a90>"
      ]
     },
     "metadata": {},
     "output_type": "display_data"
    }
   ],
   "source": [
    "plt.plot(df['upper_bollinger'], label='NVDA upper bollinger')\n",
    "plt.plot(df['lower_bollinger'], label='NVDA lower bollinger')\n",
    "plt.xlabel('Date')\n",
    "plt.ylabel('Price')\n",
    "plt.legend(loc='upper left')\n",
    "plt.show()"
   ]
  },
  {
   "cell_type": "code",
   "execution_count": 16,
   "metadata": {},
   "outputs": [
    {
     "name": "stdout",
     "output_type": "stream",
     "text": [
      "<class 'pandas.core.frame.DataFrame'>\n",
      "DatetimeIndex: 4804 entries, 1999-01-22 to 2018-02-26\n",
      "Data columns (total 12 columns):\n",
      "adj_open            4804 non-null float64\n",
      "adj_high            4804 non-null float64\n",
      "adj_low             4804 non-null float64\n",
      "adj_close           4804 non-null float64\n",
      "adj_volume          4804 non-null float64\n",
      "rolling_mean        4785 non-null float64\n",
      "shifted_price_5     4799 non-null float64\n",
      "shifted_price_30    4774 non-null float64\n",
      "shifted_price_90    4714 non-null float64\n",
      "upper_bollinger     4785 non-null float64\n",
      "lower_bollinger     4785 non-null float64\n",
      "daily_return        4803 non-null float64\n",
      "dtypes: float64(12)\n",
      "memory usage: 487.9 KB\n"
     ]
    }
   ],
   "source": [
    "df.info()"
   ]
  },
  {
   "cell_type": "code",
   "execution_count": 17,
   "metadata": {},
   "outputs": [
    {
     "data": {
      "text/html": [
       "<div>\n",
       "<style>\n",
       "    .dataframe thead tr:only-child th {\n",
       "        text-align: right;\n",
       "    }\n",
       "\n",
       "    .dataframe thead th {\n",
       "        text-align: left;\n",
       "    }\n",
       "\n",
       "    .dataframe tbody tr th {\n",
       "        vertical-align: top;\n",
       "    }\n",
       "</style>\n",
       "<table border=\"1\" class=\"dataframe\">\n",
       "  <thead>\n",
       "    <tr style=\"text-align: right;\">\n",
       "      <th></th>\n",
       "      <th>adj_open</th>\n",
       "      <th>adj_high</th>\n",
       "      <th>adj_low</th>\n",
       "      <th>adj_close</th>\n",
       "      <th>adj_volume</th>\n",
       "      <th>rolling_mean</th>\n",
       "      <th>shifted_price_5</th>\n",
       "      <th>shifted_price_30</th>\n",
       "      <th>shifted_price_90</th>\n",
       "      <th>upper_bollinger</th>\n",
       "      <th>lower_bollinger</th>\n",
       "      <th>daily_return</th>\n",
       "    </tr>\n",
       "  </thead>\n",
       "  <tbody>\n",
       "    <tr>\n",
       "      <th>count</th>\n",
       "      <td>4804.000000</td>\n",
       "      <td>4804.000000</td>\n",
       "      <td>4804.000000</td>\n",
       "      <td>4804.000000</td>\n",
       "      <td>4.804000e+03</td>\n",
       "      <td>4785.000000</td>\n",
       "      <td>4799.000000</td>\n",
       "      <td>4774.000000</td>\n",
       "      <td>4714.000000</td>\n",
       "      <td>4785.000000</td>\n",
       "      <td>4785.000000</td>\n",
       "      <td>4803.000000</td>\n",
       "    </tr>\n",
       "    <tr>\n",
       "      <th>mean</th>\n",
       "      <td>23.658029</td>\n",
       "      <td>24.056739</td>\n",
       "      <td>23.228946</td>\n",
       "      <td>23.660973</td>\n",
       "      <td>1.625728e+07</td>\n",
       "      <td>23.277278</td>\n",
       "      <td>23.683991</td>\n",
       "      <td>23.799774</td>\n",
       "      <td>24.083879</td>\n",
       "      <td>25.573172</td>\n",
       "      <td>20.981385</td>\n",
       "      <td>0.001833</td>\n",
       "    </tr>\n",
       "    <tr>\n",
       "      <th>std</th>\n",
       "      <td>38.204889</td>\n",
       "      <td>38.710817</td>\n",
       "      <td>37.605419</td>\n",
       "      <td>38.212354</td>\n",
       "      <td>1.190144e+07</td>\n",
       "      <td>36.988162</td>\n",
       "      <td>38.225601</td>\n",
       "      <td>38.291983</td>\n",
       "      <td>38.451515</td>\n",
       "      <td>40.176093</td>\n",
       "      <td>33.895850</td>\n",
       "      <td>0.039516</td>\n",
       "    </tr>\n",
       "    <tr>\n",
       "      <th>min</th>\n",
       "      <td>1.295193</td>\n",
       "      <td>1.319164</td>\n",
       "      <td>1.237200</td>\n",
       "      <td>1.266583</td>\n",
       "      <td>4.920000e+05</td>\n",
       "      <td>1.326897</td>\n",
       "      <td>1.266583</td>\n",
       "      <td>1.266583</td>\n",
       "      <td>1.266583</td>\n",
       "      <td>1.392586</td>\n",
       "      <td>1.148537</td>\n",
       "      <td>-0.352335</td>\n",
       "    </tr>\n",
       "    <tr>\n",
       "      <th>25%</th>\n",
       "      <td>8.068474</td>\n",
       "      <td>8.313981</td>\n",
       "      <td>7.831087</td>\n",
       "      <td>8.059195</td>\n",
       "      <td>8.814990e+06</td>\n",
       "      <td>7.890225</td>\n",
       "      <td>8.086646</td>\n",
       "      <td>8.184075</td>\n",
       "      <td>8.416050</td>\n",
       "      <td>9.186310</td>\n",
       "      <td>6.679560</td>\n",
       "      <td>-0.016419</td>\n",
       "    </tr>\n",
       "    <tr>\n",
       "      <th>50%</th>\n",
       "      <td>13.128070</td>\n",
       "      <td>13.403511</td>\n",
       "      <td>12.851411</td>\n",
       "      <td>13.129780</td>\n",
       "      <td>1.367350e+07</td>\n",
       "      <td>13.101711</td>\n",
       "      <td>13.139059</td>\n",
       "      <td>13.185454</td>\n",
       "      <td>13.305933</td>\n",
       "      <td>14.296908</td>\n",
       "      <td>11.677176</td>\n",
       "      <td>0.000765</td>\n",
       "    </tr>\n",
       "    <tr>\n",
       "      <th>75%</th>\n",
       "      <td>19.479441</td>\n",
       "      <td>19.731035</td>\n",
       "      <td>19.139382</td>\n",
       "      <td>19.440862</td>\n",
       "      <td>2.025615e+07</td>\n",
       "      <td>19.480803</td>\n",
       "      <td>19.457741</td>\n",
       "      <td>19.485759</td>\n",
       "      <td>19.602654</td>\n",
       "      <td>21.339432</td>\n",
       "      <td>17.909514</td>\n",
       "      <td>0.017601</td>\n",
       "    </tr>\n",
       "    <tr>\n",
       "      <th>max</th>\n",
       "      <td>251.690000</td>\n",
       "      <td>251.967500</td>\n",
       "      <td>244.600000</td>\n",
       "      <td>249.080000</td>\n",
       "      <td>2.307714e+08</td>\n",
       "      <td>237.254000</td>\n",
       "      <td>249.080000</td>\n",
       "      <td>249.080000</td>\n",
       "      <td>249.080000</td>\n",
       "      <td>257.465195</td>\n",
       "      <td>217.145498</td>\n",
       "      <td>0.424103</td>\n",
       "    </tr>\n",
       "  </tbody>\n",
       "</table>\n",
       "</div>"
      ],
      "text/plain": [
       "          adj_open     adj_high      adj_low    adj_close    adj_volume  \\\n",
       "count  4804.000000  4804.000000  4804.000000  4804.000000  4.804000e+03   \n",
       "mean     23.658029    24.056739    23.228946    23.660973  1.625728e+07   \n",
       "std      38.204889    38.710817    37.605419    38.212354  1.190144e+07   \n",
       "min       1.295193     1.319164     1.237200     1.266583  4.920000e+05   \n",
       "25%       8.068474     8.313981     7.831087     8.059195  8.814990e+06   \n",
       "50%      13.128070    13.403511    12.851411    13.129780  1.367350e+07   \n",
       "75%      19.479441    19.731035    19.139382    19.440862  2.025615e+07   \n",
       "max     251.690000   251.967500   244.600000   249.080000  2.307714e+08   \n",
       "\n",
       "       rolling_mean  shifted_price_5  shifted_price_30  shifted_price_90  \\\n",
       "count   4785.000000      4799.000000       4774.000000       4714.000000   \n",
       "mean      23.277278        23.683991         23.799774         24.083879   \n",
       "std       36.988162        38.225601         38.291983         38.451515   \n",
       "min        1.326897         1.266583          1.266583          1.266583   \n",
       "25%        7.890225         8.086646          8.184075          8.416050   \n",
       "50%       13.101711        13.139059         13.185454         13.305933   \n",
       "75%       19.480803        19.457741         19.485759         19.602654   \n",
       "max      237.254000       249.080000        249.080000        249.080000   \n",
       "\n",
       "       upper_bollinger  lower_bollinger  daily_return  \n",
       "count      4785.000000      4785.000000   4803.000000  \n",
       "mean         25.573172        20.981385      0.001833  \n",
       "std          40.176093        33.895850      0.039516  \n",
       "min           1.392586         1.148537     -0.352335  \n",
       "25%           9.186310         6.679560     -0.016419  \n",
       "50%          14.296908        11.677176      0.000765  \n",
       "75%          21.339432        17.909514      0.017601  \n",
       "max         257.465195       217.145498      0.424103  "
      ]
     },
     "execution_count": 17,
     "metadata": {},
     "output_type": "execute_result"
    }
   ],
   "source": [
    "df.describe()"
   ]
  },
  {
   "cell_type": "code",
   "execution_count": 18,
   "metadata": {},
   "outputs": [
    {
     "data": {
      "image/png": "[encoded data removed]",
      "text/plain": [
       "<matplotlib.figure.Figure at 0x102036780>"
      ]
     },
     "metadata": {},
     "output_type": "display_data"
    }
   ],
   "source": [
    "df.hist(bins=50, figsize=(20,15))\n",
    "plt.show()"
   ]
  },
  {
   "cell_type": "code",
   "execution_count": 19,
   "metadata": {
    "collapsed": true
   },
   "outputs": [],
   "source": [
    "corr_matrix = df.corr()"
   ]
  },
  {
   "cell_type": "code",
   "execution_count": 20,
   "metadata": {},
   "outputs": [
    {
     "data": {
      "text/plain": [
       "shifted_price_5     1.000000\n",
       "adj_close           0.997757\n",
       "adj_high            0.997698\n",
       "adj_low             0.997628\n",
       "adj_open            0.997559\n",
       "upper_bollinger     0.995874\n",
       "rolling_mean        0.995765\n",
       "lower_bollinger     0.992727\n",
       "shifted_price_30    0.990764\n",
       "shifted_price_90    0.979010\n",
       "daily_return        0.020046\n",
       "adj_volume         -0.027434\n",
       "Name: shifted_price_5, dtype: float64"
      ]
     },
     "execution_count": 20,
     "metadata": {},
     "output_type": "execute_result"
    }
   ],
   "source": [
    "corr_matrix['shifted_price_5'].sort_values(ascending=False)"
   ]
  },
  {
   "cell_type": "code",
   "execution_count": 21,
   "metadata": {
    "collapsed": true
   },
   "outputs": [],
   "source": [
    "df = df.dropna()"
   ]
  },
  {
   "cell_type": "code",
   "execution_count": 22,
   "metadata": {
    "collapsed": true
   },
   "outputs": [],
   "source": [
    "df_features = df.drop(['shifted_price_30','shifted_price_5','shifted_price_90'], axis=1)"
   ]
  },
  {
   "cell_type": "code",
   "execution_count": 23,
   "metadata": {
    "collapsed": true
   },
   "outputs": [],
   "source": [
    "df_shifted_5 = df['shifted_price_5'].copy()"
   ]
  },
  {
   "cell_type": "code",
   "execution_count": 24,
   "metadata": {
    "collapsed": true
   },
   "outputs": [],
   "source": [
    "df_shifted_30 = df['shifted_price_30'].copy()"
   ]
  },
  {
   "cell_type": "code",
   "execution_count": 25,
   "metadata": {
    "collapsed": true
   },
   "outputs": [],
   "source": [
    "df_shifted_90 = df['shifted_price_90'].copy()"
   ]
  },
  {
   "cell_type": "code",
   "execution_count": 26,
   "metadata": {},
   "outputs": [
    {
     "data": {
      "text/plain": [
       "date\n",
       "2017-10-09    197.93\n",
       "2017-10-10    197.75\n",
       "2017-10-11    197.58\n",
       "2017-10-12    197.80\n",
       "2017-10-13    196.90\n",
       "Name: shifted_price_5, dtype: float64"
      ]
     },
     "execution_count": 26,
     "metadata": {},
     "output_type": "execute_result"
    }
   ],
   "source": [
    "df_shifted_5.tail()"
   ]
  },
  {
   "cell_type": "code",
   "execution_count": 27,
   "metadata": {
    "collapsed": true
   },
   "outputs": [],
   "source": [
    "df_features_test = df_features[['adj_close','rolling_mean']]"
   ]
  },
  {
   "cell_type": "code",
   "execution_count": 28,
   "metadata": {},
   "outputs": [
    {
     "data": {
      "text/html": [
       "<div>\n",
       "<style>\n",
       "    .dataframe thead tr:only-child th {\n",
       "        text-align: right;\n",
       "    }\n",
       "\n",
       "    .dataframe thead th {\n",
       "        text-align: left;\n",
       "    }\n",
       "\n",
       "    .dataframe tbody tr th {\n",
       "        vertical-align: top;\n",
       "    }\n",
       "</style>\n",
       "<table border=\"1\" class=\"dataframe\">\n",
       "  <thead>\n",
       "    <tr style=\"text-align: right;\">\n",
       "      <th></th>\n",
       "      <th>adj_close</th>\n",
       "      <th>rolling_mean</th>\n",
       "    </tr>\n",
       "    <tr>\n",
       "      <th>date</th>\n",
       "      <th></th>\n",
       "      <th></th>\n",
       "    </tr>\n",
       "  </thead>\n",
       "  <tbody>\n",
       "    <tr>\n",
       "      <th>1999-02-19</th>\n",
       "      <td>1.614545</td>\n",
       "      <td>1.520557</td>\n",
       "    </tr>\n",
       "    <tr>\n",
       "      <th>1999-02-22</th>\n",
       "      <td>1.623824</td>\n",
       "      <td>1.525622</td>\n",
       "    </tr>\n",
       "    <tr>\n",
       "      <th>1999-02-23</th>\n",
       "      <td>1.701149</td>\n",
       "      <td>1.526588</td>\n",
       "    </tr>\n",
       "    <tr>\n",
       "      <th>1999-02-24</th>\n",
       "      <td>1.836468</td>\n",
       "      <td>1.540855</td>\n",
       "    </tr>\n",
       "    <tr>\n",
       "      <th>1999-02-25</th>\n",
       "      <td>1.778474</td>\n",
       "      <td>1.552453</td>\n",
       "    </tr>\n",
       "  </tbody>\n",
       "</table>\n",
       "</div>"
      ],
      "text/plain": [
       "            adj_close  rolling_mean\n",
       "date                               \n",
       "1999-02-19   1.614545      1.520557\n",
       "1999-02-22   1.623824      1.525622\n",
       "1999-02-23   1.701149      1.526588\n",
       "1999-02-24   1.836468      1.540855\n",
       "1999-02-25   1.778474      1.552453"
      ]
     },
     "execution_count": 28,
     "metadata": {},
     "output_type": "execute_result"
    }
   ],
   "source": [
    "df_features_test.head()"
   ]
  },
  {
   "cell_type": "code",
   "execution_count": null,
   "metadata": {
    "collapsed": true
   },
   "outputs": [],
   "source": []
  },
  {
   "cell_type": "code",
   "execution_count": 29,
   "metadata": {
    "collapsed": true
   },
   "outputs": [],
   "source": [
    "# from sklearn.preprocessing import StandardScaler\n",
    "# from sklearn.preprocessing import Normalizer\n",
    "# normalizer = Normalizer()\n",
    "# df_features_test[df_features_test.columns] = normalizer.fit_transform(df_features_test[df_features_test.columns])"
   ]
  },
  {
   "cell_type": "code",
   "execution_count": 30,
   "metadata": {},
   "outputs": [
    {
     "data": {
      "text/html": [
       "<div>\n",
       "<style>\n",
       "    .dataframe thead tr:only-child th {\n",
       "        text-align: right;\n",
       "    }\n",
       "\n",
       "    .dataframe thead th {\n",
       "        text-align: left;\n",
       "    }\n",
       "\n",
       "    .dataframe tbody tr th {\n",
       "        vertical-align: top;\n",
       "    }\n",
       "</style>\n",
       "<table border=\"1\" class=\"dataframe\">\n",
       "  <thead>\n",
       "    <tr style=\"text-align: right;\">\n",
       "      <th></th>\n",
       "      <th>adj_close</th>\n",
       "      <th>rolling_mean</th>\n",
       "    </tr>\n",
       "    <tr>\n",
       "      <th>date</th>\n",
       "      <th></th>\n",
       "      <th></th>\n",
       "    </tr>\n",
       "  </thead>\n",
       "  <tbody>\n",
       "    <tr>\n",
       "      <th>1999-02-19</th>\n",
       "      <td>1.614545</td>\n",
       "      <td>1.520557</td>\n",
       "    </tr>\n",
       "    <tr>\n",
       "      <th>1999-02-22</th>\n",
       "      <td>1.623824</td>\n",
       "      <td>1.525622</td>\n",
       "    </tr>\n",
       "    <tr>\n",
       "      <th>1999-02-23</th>\n",
       "      <td>1.701149</td>\n",
       "      <td>1.526588</td>\n",
       "    </tr>\n",
       "    <tr>\n",
       "      <th>1999-02-24</th>\n",
       "      <td>1.836468</td>\n",
       "      <td>1.540855</td>\n",
       "    </tr>\n",
       "    <tr>\n",
       "      <th>1999-02-25</th>\n",
       "      <td>1.778474</td>\n",
       "      <td>1.552453</td>\n",
       "    </tr>\n",
       "  </tbody>\n",
       "</table>\n",
       "</div>"
      ],
      "text/plain": [
       "            adj_close  rolling_mean\n",
       "date                               \n",
       "1999-02-19   1.614545      1.520557\n",
       "1999-02-22   1.623824      1.525622\n",
       "1999-02-23   1.701149      1.526588\n",
       "1999-02-24   1.836468      1.540855\n",
       "1999-02-25   1.778474      1.552453"
      ]
     },
     "execution_count": 30,
     "metadata": {},
     "output_type": "execute_result"
    }
   ],
   "source": [
    "df_features_test.head()"
   ]
  },
  {
   "cell_type": "code",
   "execution_count": 31,
   "metadata": {},
   "outputs": [
    {
     "data": {
      "text/html": [
       "<div>\n",
       "<style>\n",
       "    .dataframe thead tr:only-child th {\n",
       "        text-align: right;\n",
       "    }\n",
       "\n",
       "    .dataframe thead th {\n",
       "        text-align: left;\n",
       "    }\n",
       "\n",
       "    .dataframe tbody tr th {\n",
       "        vertical-align: top;\n",
       "    }\n",
       "</style>\n",
       "<table border=\"1\" class=\"dataframe\">\n",
       "  <thead>\n",
       "    <tr style=\"text-align: right;\">\n",
       "      <th></th>\n",
       "      <th>adj_close</th>\n",
       "      <th>rolling_mean</th>\n",
       "    </tr>\n",
       "  </thead>\n",
       "  <tbody>\n",
       "    <tr>\n",
       "      <th>count</th>\n",
       "      <td>4695.000000</td>\n",
       "      <td>4695.000000</td>\n",
       "    </tr>\n",
       "    <tr>\n",
       "      <th>mean</th>\n",
       "      <td>20.105416</td>\n",
       "      <td>19.736224</td>\n",
       "    </tr>\n",
       "    <tr>\n",
       "      <th>std</th>\n",
       "      <td>27.926193</td>\n",
       "      <td>26.889375</td>\n",
       "    </tr>\n",
       "    <tr>\n",
       "      <th>min</th>\n",
       "      <td>1.266583</td>\n",
       "      <td>1.326897</td>\n",
       "    </tr>\n",
       "    <tr>\n",
       "      <th>25%</th>\n",
       "      <td>8.000042</td>\n",
       "      <td>7.772165</td>\n",
       "    </tr>\n",
       "    <tr>\n",
       "      <th>50%</th>\n",
       "      <td>12.987503</td>\n",
       "      <td>12.992683</td>\n",
       "    </tr>\n",
       "    <tr>\n",
       "      <th>75%</th>\n",
       "      <td>19.040987</td>\n",
       "      <td>18.907501</td>\n",
       "    </tr>\n",
       "    <tr>\n",
       "      <th>max</th>\n",
       "      <td>194.590000</td>\n",
       "      <td>182.289995</td>\n",
       "    </tr>\n",
       "  </tbody>\n",
       "</table>\n",
       "</div>"
      ],
      "text/plain": [
       "         adj_close  rolling_mean\n",
       "count  4695.000000   4695.000000\n",
       "mean     20.105416     19.736224\n",
       "std      27.926193     26.889375\n",
       "min       1.266583      1.326897\n",
       "25%       8.000042      7.772165\n",
       "50%      12.987503     12.992683\n",
       "75%      19.040987     18.907501\n",
       "max     194.590000    182.289995"
      ]
     },
     "execution_count": 31,
     "metadata": {},
     "output_type": "execute_result"
    }
   ],
   "source": [
    "df_features_test.describe()"
   ]
  },
  {
   "cell_type": "code",
   "execution_count": 32,
   "metadata": {
    "collapsed": true
   },
   "outputs": [],
   "source": [
    "from sklearn.model_selection import TimeSeriesSplit\n",
    "import numpy as np\n",
    "\n",
    "tscv = TimeSeriesSplit()\n",
    "X = df_features_test.as_matrix()\n",
    "y = df_shifted_90.as_matrix()\n",
    "type(df_features)\n",
    "for train_index, test_index in tscv.split(df_features_test):\n",
    "    X_train, X_test = X[train_index], X[test_index]\n",
    "    y_train, y_test = y[train_index], y[test_index]"
   ]
  },
  {
   "cell_type": "code",
   "execution_count": 33,
   "metadata": {},
   "outputs": [
    {
     "name": "stdout",
     "output_type": "stream",
     "text": [
      "train score 1.0\n",
      "test score -0.44211192815914657\n"
     ]
    }
   ],
   "source": [
    "# use DecisionTreeRegressor\n",
    "from sklearn.tree import DecisionTreeRegressor\n",
    "from sklearn.metrics import accuracy_score\n",
    "\n",
    "clf = DecisionTreeRegressor(random_state=0).fit(X_train,y_train)\n",
    "train_score = clf.score(X_train, y_train)\n",
    "test_score = clf.score(X_test, y_test)\n",
    "print(\"train score {}\".format(train_score))\n",
    "print(\"test score {}\".format(test_score))\n"
   ]
  },
  {
   "cell_type": "code",
   "execution_count": 34,
   "metadata": {},
   "outputs": [
    {
     "name": "stdout",
     "output_type": "stream",
     "text": [
      "{'C': 0.1, 'gamma': 0.001}\n"
     ]
    }
   ],
   "source": [
    "# use SVM\n",
    "from sklearn.model_selection import GridSearchCV\n",
    "from sklearn.svm import SVR\n",
    "Cs = [0.001, 0.01, 0.1, 1, 10]\n",
    "gammas = [0.001, 0.01, 0.1, 1]\n",
    "param_grid = {'C': Cs, 'gamma' : gammas}\n",
    "grid_search = GridSearchCV(SVR(), param_grid)\n",
    "grid_search.fit(X_train, y_train)\n",
    "print(grid_search.best_params_)\n"
   ]
  },
  {
   "cell_type": "code",
   "execution_count": 35,
   "metadata": {},
   "outputs": [
    {
     "name": "stdout",
     "output_type": "stream",
     "text": [
      "train score 0.4826412792782733\n",
      "test score -0.5878320880736558\n"
     ]
    }
   ],
   "source": [
    "clf = SVR(C=0.1, gamma=0.001).fit(X_train,y_train)\n",
    "train_score = clf.score(X_train, y_train)\n",
    "test_score = clf.score(X_test, y_test)\n",
    "print(\"train score {}\".format(train_score))\n",
    "print(\"test score {}\".format(test_score))"
   ]
  },
  {
   "cell_type": "code",
   "execution_count": 36,
   "metadata": {},
   "outputs": [
    {
     "name": "stdout",
     "output_type": "stream",
     "text": [
      "train score 0.48264127927827344\n"
     ]
    }
   ],
   "source": [
    "# do dimenstion reduction using PCA\n",
    "# check # of features to keep\n",
    "# run PCA\n",
    "from sklearn.decomposition import PCA\n",
    "pca = PCA(n_components=2)\n",
    "X = pca.fit_transform(X_train)\n",
    "clf = SVR(C=0.1, gamma=0.001).fit(X,y_train)\n",
    "train_score = clf.score(X, y_train)\n",
    "print(\"train score {}\".format(train_score))"
   ]
  },
  {
   "cell_type": "code",
   "execution_count": 37,
   "metadata": {
    "collapsed": true
   },
   "outputs": [],
   "source": [
    "# use SVM again after PCA"
   ]
  },
  {
   "cell_type": "code",
   "execution_count": 38,
   "metadata": {
    "collapsed": true
   },
   "outputs": [],
   "source": [
    "# use from keras.layers.recurrent import LSTM"
   ]
  }
 ],
 "metadata": {
  "kernelspec": {
   "display_name": "Python 3",
   "language": "python",
   "name": "python3"
  },
  "language_info": {
   "codemirror_mode": {
    "name": "ipython",
    "version": 3
   },
   "file_extension": ".py",
   "mimetype": "text/x-python",
   "name": "python",
   "nbconvert_exporter": "python",
   "pygments_lexer": "ipython3",
   "version": "3.6.3"
  }
 },
 "nbformat": 4,
 "nbformat_minor": 2
}
