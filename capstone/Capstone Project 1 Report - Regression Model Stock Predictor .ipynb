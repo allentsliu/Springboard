{
 "cells": [
  {
   "cell_type": "markdown",
   "metadata": {},
   "source": [
    "# Project 1 - Regression Model Stock Predictor\n",
    "## Objective\n",
    "Stock investiment is probably one of the hardest investment to master because of the unpredictable natural of stock market. Experts have studied the market and derived several technical analysis for predicting stuck market. Unfortunately, most of the technical analysis are quite complex and not many people know how to use them. Even people with good understanding of the technical analysis would need to spend a considerable amount of time analyzing the data before reaching a reasonable confident conclusion. \n",
    "The objective of this project is to train a regression model based on the available historical stuck price. Once the model is trained, the user should be able to provide the current stock price and get the prediction of the price for the next 30 days using the model.\n",
    "\n",
    "## Goals\n",
    "The goal of this project is to analysis the available historical stock price data and use the data to train a regression model for predicting the stock price of the next 30 days.\n",
    "\n",
    "\n",
    "## Project Outline\n",
    "The project has 3 steps:\n",
    "1. Explore and analyze the dataset\n",
    "2. Modify and prepare the dataset for training\n",
    "3. Evaluate various regression model and compare their performance\n"
   ]
  },
  {
   "cell_type": "markdown",
   "metadata": {},
   "source": [
    "## 1. Explore and analyze the dataset\n",
    "Download the dataset from Quandl if it is not available in local disk. \n",
    "Note: For this project, AAPL stock price is used since it is one of the few stock price that Quandl provide for free "
   ]
  },
  {
   "cell_type": "code",
   "execution_count": 1,
   "metadata": {},
   "outputs": [
    {
     "data": {
      "text/html": [
       "<div>\n",
       "<style>\n",
       "    .dataframe thead tr:only-child th {\n",
       "        text-align: right;\n",
       "    }\n",
       "\n",
       "    .dataframe thead th {\n",
       "        text-align: left;\n",
       "    }\n",
       "\n",
       "    .dataframe tbody tr th {\n",
       "        vertical-align: top;\n",
       "    }\n",
       "</style>\n",
       "<table border=\"1\" class=\"dataframe\">\n",
       "  <thead>\n",
       "    <tr style=\"text-align: right;\">\n",
       "      <th></th>\n",
       "      <th>adj_close</th>\n",
       "    </tr>\n",
       "    <tr>\n",
       "      <th>date</th>\n",
       "      <th></th>\n",
       "    </tr>\n",
       "  </thead>\n",
       "  <tbody>\n",
       "    <tr>\n",
       "      <th>2018-03-27</th>\n",
       "      <td>168.340</td>\n",
       "    </tr>\n",
       "    <tr>\n",
       "      <th>2018-03-26</th>\n",
       "      <td>172.770</td>\n",
       "    </tr>\n",
       "    <tr>\n",
       "      <th>2018-03-23</th>\n",
       "      <td>164.940</td>\n",
       "    </tr>\n",
       "    <tr>\n",
       "      <th>2018-03-22</th>\n",
       "      <td>168.845</td>\n",
       "    </tr>\n",
       "    <tr>\n",
       "      <th>2018-03-21</th>\n",
       "      <td>171.270</td>\n",
       "    </tr>\n",
       "  </tbody>\n",
       "</table>\n",
       "</div>"
      ],
      "text/plain": [
       "            adj_close\n",
       "date                 \n",
       "2018-03-27    168.340\n",
       "2018-03-26    172.770\n",
       "2018-03-23    164.940\n",
       "2018-03-22    168.845\n",
       "2018-03-21    171.270"
      ]
     },
     "execution_count": 1,
     "metadata": {},
     "output_type": "execute_result"
    }
   ],
   "source": [
    "import os\n",
    "import quandl\n",
    "import pandas as pd\n",
    "quandl.ApiConfig.api_key = \"nVD4QZoCjEQijoM1Pvzz\"\n",
    "# download data from quandl and save it in a csv file if the file does not exist\n",
    "if not os.path.exists('data/AAPL.csv'):\n",
    "    data = quandl.get_table(\"WIKI/PRICES\", qopts={'columns': ['ticker', 'date', 'adj_close', 'adj_volume']}, \n",
    "                            ticker=AAPL, paginate=True)\n",
    "    if data.shape[0] > 1:\n",
    "        data.to_csv('data/AAPL.csv', '\\t')\n",
    "# read the data from csv file\n",
    "df = pd.read_csv('data/AAPL.csv', usecols=['date', 'adj_close'], delimiter='\\t', header=0,\n",
    "                 index_col='date', parse_dates=True)\n",
    "df.head()"
   ]
  },
  {
   "cell_type": "code",
   "execution_count": 2,
   "metadata": {},
   "outputs": [
    {
     "data": {
      "text/plain": [
       "(9400, 1)"
      ]
     },
     "execution_count": 2,
     "metadata": {},
     "output_type": "execute_result"
    }
   ],
   "source": [
    "# check dataset's shape and info to see if cleaning is required\n",
    "df.shape"
   ]
  },
  {
   "cell_type": "code",
   "execution_count": 3,
   "metadata": {},
   "outputs": [
    {
     "name": "stdout",
     "output_type": "stream",
     "text": [
      "<class 'pandas.core.frame.DataFrame'>\n",
      "DatetimeIndex: 9400 entries, 2018-03-27 to 1980-12-12\n",
      "Data columns (total 1 columns):\n",
      "adj_close    9400 non-null float64\n",
      "dtypes: float64(1)\n",
      "memory usage: 146.9 KB\n"
     ]
    }
   ],
   "source": [
    "df.info()"
   ]
  },
  {
   "cell_type": "code",
   "execution_count": 4,
   "metadata": {},
   "outputs": [
    {
     "data": {
      "image/png": "[encoded data removed]",
      "text/plain": [
       "<matplotlib.figure.Figure at 0x105c4df60>"
      ]
     },
     "metadata": {},
     "output_type": "display_data"
    }
   ],
   "source": [
    "# above info shows that there is no null value and the dataset is clean\n",
    "# The line plot of the dataset is created which shows the tread of the dataset\n",
    "import matplotlib.pyplot as plt\n",
    "df.sort_index(inplace=True)\n",
    "plt.plot(df)\n",
    "plt.title('AAPL stock price')\n",
    "plt.xlabel('Date')\n",
    "plt.ylabel('stock price')\n",
    "plt.show()"
   ]
  },
  {
   "cell_type": "code",
   "execution_count": 5,
   "metadata": {},
   "outputs": [
    {
     "data": {
      "text/html": [
       "<div>\n",
       "<style>\n",
       "    .dataframe thead tr:only-child th {\n",
       "        text-align: right;\n",
       "    }\n",
       "\n",
       "    .dataframe thead th {\n",
       "        text-align: left;\n",
       "    }\n",
       "\n",
       "    .dataframe tbody tr th {\n",
       "        vertical-align: top;\n",
       "    }\n",
       "</style>\n",
       "<table border=\"1\" class=\"dataframe\">\n",
       "  <thead>\n",
       "    <tr style=\"text-align: right;\">\n",
       "      <th></th>\n",
       "      <th>adj_close</th>\n",
       "    </tr>\n",
       "  </thead>\n",
       "  <tbody>\n",
       "    <tr>\n",
       "      <th>count</th>\n",
       "      <td>9400.000000</td>\n",
       "    </tr>\n",
       "    <tr>\n",
       "      <th>mean</th>\n",
       "      <td>21.567664</td>\n",
       "    </tr>\n",
       "    <tr>\n",
       "      <th>std</th>\n",
       "      <td>39.271266</td>\n",
       "    </tr>\n",
       "    <tr>\n",
       "      <th>min</th>\n",
       "      <td>0.161731</td>\n",
       "    </tr>\n",
       "    <tr>\n",
       "      <th>25%</th>\n",
       "      <td>0.922730</td>\n",
       "    </tr>\n",
       "    <tr>\n",
       "      <th>50%</th>\n",
       "      <td>1.437445</td>\n",
       "    </tr>\n",
       "    <tr>\n",
       "      <th>75%</th>\n",
       "      <td>20.294924</td>\n",
       "    </tr>\n",
       "    <tr>\n",
       "      <th>max</th>\n",
       "      <td>181.720000</td>\n",
       "    </tr>\n",
       "  </tbody>\n",
       "</table>\n",
       "</div>"
      ],
      "text/plain": [
       "         adj_close\n",
       "count  9400.000000\n",
       "mean     21.567664\n",
       "std      39.271266\n",
       "min       0.161731\n",
       "25%       0.922730\n",
       "50%       1.437445\n",
       "75%      20.294924\n",
       "max     181.720000"
      ]
     },
     "execution_count": 5,
     "metadata": {},
     "output_type": "execute_result"
    }
   ],
   "source": [
    "df.describe()"
   ]
  },
  {
   "cell_type": "markdown",
   "metadata": {},
   "source": [
    "## 2. Modify and prepare the dataset for training\n",
    "\n",
    "As shown in the plot above, the data has an increasing trend. To make a better prediction, we can remove the tread by differencing"
   ]
  },
  {
   "cell_type": "code",
   "execution_count": 6,
   "metadata": {},
   "outputs": [
    {
     "name": "stdout",
     "output_type": "stream",
     "text": [
      "[[array([-0.02205422])]\n",
      " [array([-0.02940563])]\n",
      " [array([ 0.00911574])]\n",
      " [array([ 0.01117414])]\n",
      " [array([ 0.02381856])]]\n",
      "[[array([-3.97])]\n",
      " [array([-2.425])]\n",
      " [array([-3.905])]\n",
      " [array([ 7.83])]\n",
      " [array([-4.43])]]\n"
     ]
    }
   ],
   "source": [
    "from pandas import Series\n",
    "def difference(dataset, interval=1):\n",
    "    diff = list()\n",
    "    for i in range(interval, len(dataset)):\n",
    "        value = dataset[i] - dataset[i - interval]\n",
    "        diff.append(value)\n",
    "    return Series(diff)\n",
    "\n",
    "raw_values = df.values\n",
    "diff_series = difference(raw_values, 1)\n",
    "diff_values = diff_series.values\n",
    "diff_values = diff_values.reshape(len(diff_values), 1)\n",
    "print(diff_values[:5])\n",
    "print(diff_values[-5:])"
   ]
  },
  {
   "cell_type": "markdown",
   "metadata": {},
   "source": [
    "As shown in the output above, the diff_values still has a large range. This can degrade the predictive performance of many machine learning algorighms. Unscaled data can also slow down or even prevent the convergence of many gradient-based estimators. \n",
    "Many estimators are designed with the assumption that each feature takes values close to zero. \n",
    "There are many differenct scalers. For this project, MinMaxScaler that rescale values to -1, 1 is used"
   ]
  },
  {
   "cell_type": "code",
   "execution_count": 7,
   "metadata": {},
   "outputs": [
    {
     "name": "stdout",
     "output_type": "stream",
     "text": [
      "[[ 0.02246711]\n",
      " [ 0.02155191]\n",
      " [ 0.02634758]\n",
      " [ 0.02660384]\n",
      " [ 0.02817799]]\n",
      "[[-0.46902807]\n",
      " [-0.27668499]\n",
      " [-0.46093597]\n",
      " [ 1.        ]\n",
      " [-0.52629527]]\n"
     ]
    },
    {
     "name": "stderr",
     "output_type": "stream",
     "text": [
      "/Users/allenliu/anaconda3/lib/python3.6/site-packages/sklearn/utils/validation.py:475: DataConversionWarning: Data with input dtype object was converted to float64 by MinMaxScaler.\n",
      "  warnings.warn(msg, DataConversionWarning)\n"
     ]
    }
   ],
   "source": [
    "from sklearn.preprocessing import MinMaxScaler\n",
    "# rescale values to -1, 1\n",
    "scaler = MinMaxScaler(feature_range=(-1, 1))\n",
    "scaled_values = scaler.fit_transform(diff_values)\n",
    "scaled_values = scaled_values.reshape(len(scaled_values), 1)\n",
    "print(scaled_values[:5])\n",
    "print(scaled_values[-5:])"
   ]
  },
  {
   "cell_type": "markdown",
   "metadata": {},
   "source": [
    "The stock prediction is a multi-step forecast problem. For a given time step, the model is required to make the next 30 day prediction. That is given t-1, forecast t, t+1, t+2... t+30. \n",
    "A key function to help transform time series data into multi-step forecast problem is the shift() function. \n",
    "By shifting the input (X) by -1 for 30 times, we can mimic the 30 days forecast.\n",
    "\n",
    "i.e. \n",
    "\n",
    "```X    y1  y2  y3  .... y30\n",
    "t    t+1 t+2 t+3 .... t+30```\n"
   ]
  },
  {
   "cell_type": "code",
   "execution_count": 8,
   "metadata": {},
   "outputs": [
    {
     "name": "stdout",
     "output_type": "stream",
     "text": [
      "(9369, 31)\n",
      "[[ 0.02246711  0.02155191  0.02634758 ...,  0.02429752  0.02475512\n",
      "   0.02338232]\n",
      " [ 0.02155191  0.02634758  0.02660384 ...,  0.02475512  0.02338232\n",
      "   0.02314436]\n",
      " [ 0.02634758  0.02660384  0.02817799 ...,  0.02338232  0.02314436\n",
      "   0.02224746]\n",
      " ..., \n",
      " [-0.50015155  0.10613377  0.86430164 ..., -0.46902807 -0.27668499\n",
      "  -0.46093597]\n",
      " [ 0.10613377  0.86430164  0.22813779 ..., -0.27668499 -0.46093597  1.        ]\n",
      " [ 0.86430164  0.22813779  0.40242926 ..., -0.46093597  1.         -0.52629527]]\n"
     ]
    }
   ],
   "source": [
    "from pandas import DataFrame\n",
    "from pandas import concat\n",
    "\n",
    "# convert time series into multi-step problem\n",
    "def series_to_supervised(data, n_in=1, n_out=1, dropnan=True):\n",
    "    n_vars = 1 if type(data) is list else data.shape[1]\n",
    "    df = DataFrame(data)\n",
    "    cols, names = list(), list()\n",
    "    # input sequence (t-n, ... t-1)\n",
    "    for i in range(n_in, 0, -1):\n",
    "        cols.append(df.shift(i))\n",
    "        names += [('var%d(t-%d)' % (j + 1, i)) for j in range(n_vars)]\n",
    "    # forecast sequence (t, t+1, ... t+n)\n",
    "    for i in range(0, n_out):\n",
    "        cols.append(df.shift(-i))\n",
    "        if i == 0:\n",
    "            names += [('var%d(t)' % (j + 1)) for j in range(n_vars)]\n",
    "        else:\n",
    "            names += [('var%d(t+%d)' % (j + 1, i)) for j in range(n_vars)]\n",
    "    # put it all together\n",
    "    agg = concat(cols, axis=1)\n",
    "    agg.columns = names\n",
    "    # drop rows with NaN values\n",
    "    if dropnan:\n",
    "        agg.dropna(inplace=True)\n",
    "    return agg\n",
    "\n",
    "supervised = series_to_supervised(scaled_values, 1, 30)\n",
    "supervised_values = supervised.values\n",
    "print(supervised_values.shape)\n",
    "print(supervised_values)"
   ]
  },
  {
   "cell_type": "markdown",
   "metadata": {},
   "source": [
    "Next, we can split the data into training and test sets. Set  n_test = 3700"
   ]
  },
  {
   "cell_type": "code",
   "execution_count": 9,
   "metadata": {
    "collapsed": true
   },
   "outputs": [],
   "source": [
    "n_test = 3700 \n",
    "train, test = supervised_values[0:-n_test], supervised_values[-n_test:]"
   ]
  },
  {
   "cell_type": "code",
   "execution_count": 10,
   "metadata": {},
   "outputs": [
    {
     "name": "stdout",
     "output_type": "stream",
     "text": [
      "[ 0.02246711]\n",
      "[ 0.02155191  0.02634758  0.02660384  0.02817799  0.02773869  0.02750074\n",
      "  0.02817799  0.03070396  0.02612793  0.02360197  0.02340062  0.02588998\n",
      "  0.02383992  0.02246711  0.02270506  0.02405957  0.0281963   0.02473682\n",
      "  0.02316267  0.02545068  0.02634758  0.02475512  0.0286356   0.02340062\n",
      "  0.02634758  0.02588998  0.02499308  0.02429752  0.02475512  0.02338232]\n"
     ]
    }
   ],
   "source": [
    "#reshape training into X,y\n",
    "X, y = train[:, 0:1], train[:, 1:]\n",
    "print(X[0])\n",
    "print(y[0])"
   ]
  },
  {
   "cell_type": "markdown",
   "metadata": {},
   "source": [
    "## 3. Evaluate various regression model and compare their performance\n",
    "### 1. SVR Model\n",
    "First, train the SVR model and evaulate it's performance. To determine the best parameter for the SVR, GridSearchCV is used. Since this is a multi-step forcast problem, MultiOutputRegressor is used as a wrapper to extend SVR that does not natively support multi-target regression."
   ]
  },
  {
   "cell_type": "code",
   "execution_count": 11,
   "metadata": {},
   "outputs": [
    {
     "name": "stdout",
     "output_type": "stream",
     "text": [
      "{'estimator__C': 10, 'estimator__gamma': 1, 'estimator__kernel': 'rbf'}\n"
     ]
    }
   ],
   "source": [
    "from sklearn.model_selection import GridSearchCV\n",
    "from sklearn.svm import SVR\n",
    "from sklearn.multioutput import MultiOutputRegressor\n",
    "\n",
    "Cs = [0.001, 0.01, 0.1, 1, 10]\n",
    "gammas = [0.001, 0.01, 0.1, 1]\n",
    "kernels = ['linear','poly','rbf','sigmoid']\n",
    "param_grid = {'estimator__C': Cs, 'estimator__gamma': gammas, 'estimator__kernel': kernels }\n",
    "regr = MultiOutputRegressor(SVR())\n",
    "grid_search = GridSearchCV(regr, param_grid)\n",
    "grid_search.fit(X, y)\n",
    "print(grid_search.best_params_)"
   ]
  },
  {
   "cell_type": "code",
   "execution_count": 12,
   "metadata": {
    "collapsed": true
   },
   "outputs": [],
   "source": [
    "model = MultiOutputRegressor(SVR(C=10, gamma=1)).fit(X,y)"
   ]
  },
  {
   "cell_type": "markdown",
   "metadata": {},
   "source": [
    "Using the trained model, we can make prediction using the test data"
   ]
  },
  {
   "cell_type": "code",
   "execution_count": 13,
   "metadata": {},
   "outputs": [
    {
     "name": "stdout",
     "output_type": "stream",
     "text": [
      "[-0.0071525089142082665, -0.017743490129980694, -0.01924971123437394, -0.01779804067192628, -0.016355577546203461, -0.016765930048189, -0.01662034368589714, -0.019853215052171649, -0.023605966456182566, -0.015833493557284851, -0.02213598322073182, -0.017267404154887062, -0.017569858356476536, -0.016163867990052899, -0.014115489282952934, -0.017677271316784121, -0.020336958922423924, -0.018699210066458485, -0.012516980963537719, -0.018448041424192346, -0.019653691169197379, -0.019060934340239241, -0.017770560727786502, -0.017797989111241669, -0.020779335938055268, -0.019028017164611791, -0.019002138089551757, -0.022170121115243982, -0.016213327368827905, -0.015130754293692511]\n"
     ]
    }
   ],
   "source": [
    "def make_forecasts(model, test):\n",
    "    forecasts = list()\n",
    "    for i in range(len(test)):\n",
    "        X, y = test[i, 0:1], test[i, 1:]\n",
    "        # make forecast\n",
    "        forecast = forecast_svr(model, X)\n",
    "        # store the forecast\n",
    "        forecasts.append(forecast)\n",
    "    return forecasts\n",
    "\n",
    "def forecast_svr(model, X):\n",
    "    X = X.reshape(1,len(X))\n",
    "    forecast = model.predict(X)\n",
    "    # convert to array\n",
    "    return [x for x in forecast[0, :]]\n",
    "\n",
    "forecasts = make_forecasts(model, test)\n",
    "print(forecasts[0])"
   ]
  },
  {
   "cell_type": "markdown",
   "metadata": {},
   "source": [
    "After the forecasts have been made, we need to invert the transforms to return the values back into the original scale. This is needed so that we can calculate error scores and plots that are comparable with the actual test output."
   ]
  },
  {
   "cell_type": "code",
   "execution_count": 14,
   "metadata": {},
   "outputs": [
    {
     "name": "stdout",
     "output_type": "stream",
     "text": [
      "[array([ 0.99817699]), array([ 0.65313024]), array([ 0.29598473]), array([-0.04950019]), array([-0.38339851]), array([-0.72059298]), array([-1.05661804]), array([-1.4186112]), array([-1.81074842]), array([-2.14045308]), array([-2.52078262]), array([-2.8620052]), array([-3.20565725]), array([-3.53801565]), array([-3.8539204]), array([-4.19843525]), array([-4.56431409]), array([-4.91703769]), array([-5.22010239]), array([-5.57080846]), array([-5.93119894]), array([-6.28682809]), array([-6.63209229]), array([-6.9775768]), array([-7.34700905]), array([-7.70237379]), array([-8.05753066]), array([-8.43813442]), array([-8.7708901]), array([-9.09494999])]\n"
     ]
    }
   ],
   "source": [
    "from numpy import array\n",
    "\n",
    "def inverse_transform(series, forecasts, scaler, n_test):\n",
    "    inverted = list()\n",
    "    for i in range(len(forecasts)):\n",
    "        # create array from forecast\n",
    "        forecast = array(forecasts[i])\n",
    "        forecast = forecast.reshape(1, len(forecast))\n",
    "        # invert scaling\n",
    "        inv_scale = scaler.inverse_transform(forecast)\n",
    "        inv_scale = inv_scale[0, :]\n",
    "        # invert differencing\n",
    "        index = len(series) - n_test + i - 1\n",
    "        last_ob = series.values[index]\n",
    "        inv_diff = inverse_difference(last_ob, inv_scale)\n",
    "        # store\n",
    "        inverted.append(inv_diff)\n",
    "    return inverted\n",
    "\n",
    "# invert differenced forecast\n",
    "def inverse_difference(last_ob, forecast):\n",
    "    # invert first forecast\n",
    "    inverted = list()\n",
    "    inverted.append(forecast[0] + last_ob)\n",
    "    # propagate difference forecast using inverted first value\n",
    "    for i in range(1, len(forecast)):\n",
    "        inverted.append(forecast[i] + inverted[i - 1])\n",
    "    return inverted\n",
    "\n",
    "forecasts = inverse_transform(df, forecasts, scaler, n_test + 2)\n",
    "print(forecasts[0])"
   ]
  },
  {
   "cell_type": "markdown",
   "metadata": {},
   "source": [
    "Get the actual test target and transform the data to their original scale"
   ]
  },
  {
   "cell_type": "code",
   "execution_count": 15,
   "metadata": {
    "collapsed": true
   },
   "outputs": [],
   "source": [
    "actual = [row[1:] for row in test]\n",
    "actual = inverse_transform(df, actual, scaler, n_test + 2)"
   ]
  },
  {
   "cell_type": "markdown",
   "metadata": {},
   "source": [
    "Evaluate the RMSE for each forecast time step"
   ]
  },
  {
   "cell_type": "code",
   "execution_count": 16,
   "metadata": {},
   "outputs": [
    {
     "name": "stdout",
     "output_type": "stream",
     "text": [
      "t+1 RMSE: 1.213634\n",
      "t+2 RMSE: 1.647081\n",
      "t+3 RMSE: 2.128069\n",
      "t+4 RMSE: 2.626768\n",
      "t+5 RMSE: 2.991953\n",
      "t+6 RMSE: 3.371821\n",
      "t+7 RMSE: 3.812751\n",
      "t+8 RMSE: 4.222598\n",
      "t+9 RMSE: 4.781010\n",
      "t+10 RMSE: 5.132431\n",
      "t+11 RMSE: 5.510405\n",
      "t+12 RMSE: 5.948555\n",
      "t+13 RMSE: 6.316946\n",
      "t+14 RMSE: 6.722795\n",
      "t+15 RMSE: 7.058245\n",
      "t+16 RMSE: 7.463258\n",
      "t+17 RMSE: 7.826017\n",
      "t+18 RMSE: 8.209595\n",
      "t+19 RMSE: 8.592708\n",
      "t+20 RMSE: 9.047438\n",
      "t+21 RMSE: 9.449130\n",
      "t+22 RMSE: 9.877070\n",
      "t+23 RMSE: 10.298055\n",
      "t+24 RMSE: 10.730791\n",
      "t+25 RMSE: 11.114181\n",
      "t+26 RMSE: 11.577285\n",
      "t+27 RMSE: 12.035677\n",
      "t+28 RMSE: 12.392909\n",
      "t+29 RMSE: 12.724031\n",
      "t+30 RMSE: 13.123339\n"
     ]
    }
   ],
   "source": [
    "from math import sqrt\n",
    "from sklearn.metrics import mean_squared_error\n",
    "\n",
    "def evaluate_forecasts(test, forecasts, n_lag, n_seq):\n",
    "    for i in range(n_seq):\n",
    "        actual = [row[i] for row in test]\n",
    "        predicted = [forecast[i] for forecast in forecasts]\n",
    "        rmse = sqrt(mean_squared_error(actual, predicted))\n",
    "        print('t+%d RMSE: %f' % ((i + 1), rmse))\n",
    "\n",
    "evaluate_forecasts(actual, forecasts, 1, 30)"
   ]
  },
  {
   "cell_type": "markdown",
   "metadata": {},
   "source": [
    "Plot the forecast aginst the original dataset"
   ]
  },
  {
   "cell_type": "code",
   "execution_count": 17,
   "metadata": {},
   "outputs": [
    {
     "data": {
      "image/png": "[encoded data removed]",
      "text/plain": [
       "<matplotlib.figure.Figure at 0x1a14a7cf98>"
      ]
     },
     "metadata": {},
     "output_type": "display_data"
    }
   ],
   "source": [
    "def plot_forecasts(series, forecasts, n_test):\n",
    "    # plot the entire dataset in blue\n",
    "    plt.plot(series.values)\n",
    "    # plot the forecasts in red\n",
    "    for i in range(len(forecasts)):\n",
    "        off_s = len(series) - n_test + i - 1\n",
    "        off_e = off_s + len(forecasts[i]) + 1\n",
    "        xaxis = [x for x in range(off_s, off_e)]\n",
    "        yaxis = [series.values[off_s]] + forecasts[i]\n",
    "        plt.plot(xaxis, yaxis, color='red')\n",
    "    # show the plot\n",
    "    plt.show()\n",
    "\n",
    "plot_forecasts(df, forecasts, n_test + 2)"
   ]
  },
  {
   "cell_type": "markdown",
   "metadata": {},
   "source": [
    "As shown in the graph above, there is large fluctuation in the forecast data compare with the actual data. However, the model is generally good as it can predict the correct trend of the stock price"
   ]
  },
  {
   "cell_type": "markdown",
   "metadata": {},
   "source": [
    "### 2. DecisionTreeRegressor Model\n",
    "Second, let's train a DecisionTreeRegressor and see how it performes "
   ]
  },
  {
   "cell_type": "code",
   "execution_count": 18,
   "metadata": {
    "collapsed": true
   },
   "outputs": [],
   "source": [
    "from sklearn.tree import DecisionTreeRegressor\n",
    "modelDTR = MultiOutputRegressor(DecisionTreeRegressor(random_state=0)).fit(X,y)"
   ]
  },
  {
   "cell_type": "code",
   "execution_count": 19,
   "metadata": {},
   "outputs": [
    {
     "name": "stdout",
     "output_type": "stream",
     "text": [
      "[0.024823655524463875, 0.026401758620267824, 0.025649068894848217, 0.027576245486498598, 0.023918246144613187, 0.023256460975407824, 0.023100105138725593, 0.025754518180052251, 0.024598212225062741, 0.024078238163543739, 0.026263583694828684, 0.023703711391957573, 0.025274542123267716, 0.025307267763498651, 0.025656341259345763, 0.02764533294921704, 0.025678158352837058, 0.025267269758768581, 0.023460087181317223, 0.027845322972879016, 0.027078088518467033, 0.025176365202558625, 0.024452764935128532, 0.026699925564635272, 0.023278278068894816, 0.025223635571789402, 0.028067130090029892, 0.027398072556327681, 0.023798252130415861, 0.027565336939754659]\n"
     ]
    }
   ],
   "source": [
    "forecastsDTR = make_forecasts(modelDTR, test)\n",
    "print(forecastsDTR[0])"
   ]
  },
  {
   "cell_type": "code",
   "execution_count": 20,
   "metadata": {},
   "outputs": [
    {
     "name": "stdout",
     "output_type": "stream",
     "text": [
      "[array([ 1.25502622]), array([ 1.26457715]), array([ 1.26808207]), array([ 1.28706709]), array([ 1.27666914]), array([ 1.26095539]), array([ 1.24398571]), array([ 1.24833766]), array([ 1.24340155]), array([ 1.23428875]), array([ 1.24272978]), array([ 1.23060858]), array([ 1.23110511]), array([ 1.23186451]), array([ 1.23542785]), array([ 1.25496781]), array([ 1.2587064]), array([ 1.25914451]), array([ 1.24506639]), array([ 1.26621278]), array([ 1.28119634]), array([ 1.28090426]), array([ 1.27479985]), array([ 1.2867458]), array([ 1.2712073]), array([ 1.27129492]), array([ 1.29422298]), array([ 1.31177681]), array([ 1.30041501]), array([ 1.3193124])]\n"
     ]
    }
   ],
   "source": [
    "forecastsDTR = inverse_transform(df, forecastsDTR, scaler, n_test + 2)\n",
    "print(forecastsDTR[0])"
   ]
  },
  {
   "cell_type": "code",
   "execution_count": 21,
   "metadata": {},
   "outputs": [
    {
     "name": "stdout",
     "output_type": "stream",
     "text": [
      "t+1 RMSE: 1.059251\n",
      "t+2 RMSE: 1.498298\n",
      "t+3 RMSE: 1.824373\n",
      "t+4 RMSE: 2.108605\n",
      "t+5 RMSE: 2.375138\n",
      "t+6 RMSE: 2.601160\n",
      "t+7 RMSE: 2.798409\n",
      "t+8 RMSE: 3.011196\n",
      "t+9 RMSE: 3.228060\n",
      "t+10 RMSE: 3.406364\n",
      "t+11 RMSE: 3.572429\n",
      "t+12 RMSE: 3.723011\n",
      "t+13 RMSE: 3.868358\n",
      "t+14 RMSE: 3.999081\n",
      "t+15 RMSE: 4.143604\n",
      "t+16 RMSE: 4.284882\n",
      "t+17 RMSE: 4.421200\n",
      "t+18 RMSE: 4.557767\n",
      "t+19 RMSE: 4.699522\n",
      "t+20 RMSE: 4.835123\n",
      "t+21 RMSE: 4.990988\n",
      "t+22 RMSE: 5.107230\n",
      "t+23 RMSE: 5.230035\n",
      "t+24 RMSE: 5.348993\n",
      "t+25 RMSE: 5.456401\n",
      "t+26 RMSE: 5.570900\n",
      "t+27 RMSE: 5.660230\n",
      "t+28 RMSE: 5.782262\n",
      "t+29 RMSE: 5.896631\n",
      "t+30 RMSE: 6.028059\n"
     ]
    }
   ],
   "source": [
    "evaluate_forecasts(actual, forecastsDTR, 1, 30)"
   ]
  },
  {
   "cell_type": "code",
   "execution_count": 22,
   "metadata": {},
   "outputs": [
    {
     "data": {
      "image/png": "[encoded data removed]",
      "text/plain": [
       "<matplotlib.figure.Figure at 0x1a18f0f860>"
      ]
     },
     "metadata": {},
     "output_type": "display_data"
    }
   ],
   "source": [
    "plot_forecasts(df, forecastsDTR, n_test + 2)"
   ]
  },
  {
   "cell_type": "markdown",
   "metadata": {},
   "source": [
    "### Conclusion:\n",
    "\n",
    "Both SVR and DecisionTreeRegressor model can predict the trend of the stock price. However, DecisionTreeRegressor seems to perform better than SVR by comparing both the RMSE and the plot. "
   ]
  },
  {
   "cell_type": "code",
   "execution_count": null,
   "metadata": {
    "collapsed": true
   },
   "outputs": [],
   "source": []
  }
 ],
 "metadata": {
  "kernelspec": {
   "display_name": "Python 3",
   "language": "python",
   "name": "python3"
  },
  "language_info": {
   "codemirror_mode": {
    "name": "ipython",
    "version": 3
   },
   "file_extension": ".py",
   "mimetype": "text/x-python",
   "name": "python",
   "nbconvert_exporter": "python",
   "pygments_lexer": "ipython3",
   "version": "3.6.3"
  }
 },
 "nbformat": 4,
 "nbformat_minor": 2
}
